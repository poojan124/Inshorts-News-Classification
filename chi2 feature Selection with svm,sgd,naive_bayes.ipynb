{
 "cells": [
  {
   "cell_type": "markdown",
   "metadata": {
    "deletable": true,
    "editable": true
   },
   "source": [
    "### Reading and Cleaning data"
   ]
  },
  {
   "cell_type": "code",
   "execution_count": 29,
   "metadata": {
    "collapsed": true,
    "deletable": true,
    "editable": true
   },
   "outputs": [],
   "source": [
    "import os\n",
    "import pandas as pd\n",
    "import numpy as np"
   ]
  },
  {
   "cell_type": "code",
   "execution_count": 30,
   "metadata": {
    "collapsed": false,
    "deletable": true,
    "editable": true
   },
   "outputs": [
    {
     "data": {
      "text/html": [
       "<div>\n",
       "<style>\n",
       "    .dataframe thead tr:only-child th {\n",
       "        text-align: right;\n",
       "    }\n",
       "\n",
       "    .dataframe thead th {\n",
       "        text-align: left;\n",
       "    }\n",
       "\n",
       "    .dataframe tbody tr th {\n",
       "        vertical-align: top;\n",
       "    }\n",
       "</style>\n",
       "<table border=\"1\" class=\"dataframe\">\n",
       "  <thead>\n",
       "    <tr style=\"text-align: right;\">\n",
       "      <th></th>\n",
       "      <th>ind</th>\n",
       "      <th>catg</th>\n",
       "      <th>headline</th>\n",
       "      <th>body</th>\n",
       "      <th>imageurl</th>\n",
       "      <th>readmoreurl</th>\n",
       "      <th>inblockId</th>\n",
       "    </tr>\n",
       "  </thead>\n",
       "  <tbody>\n",
       "    <tr>\n",
       "      <th>0</th>\n",
       "      <td>1</td>\n",
       "      <td>automobile</td>\n",
       "      <td>Toyota gives increased comfort &amp; safety featur...</td>\n",
       "      <td>Toyota's Etios and Liva have 14 Standard Safet...</td>\n",
       "      <td>http://images.newsinshorts.com.edgesuite.net/a...</td>\n",
       "      <td>https://youtu.be/-_PqPwvecyE</td>\n",
       "      <td>dysqqgqf-1</td>\n",
       "    </tr>\n",
       "    <tr>\n",
       "      <th>1</th>\n",
       "      <td>2</td>\n",
       "      <td>automobile</td>\n",
       "      <td>Vodafone uses AR in PBL to promote new campaig...</td>\n",
       "      <td>Several pugs gatecrashed the finals of Vodafon...</td>\n",
       "      <td>http://images.newsinshorts.com.edgesuite.net/a...</td>\n",
       "      <td>https://youtu.be/yY_MRk3KEhw</td>\n",
       "      <td>dysqqgqf-1</td>\n",
       "    </tr>\n",
       "    <tr>\n",
       "      <th>2</th>\n",
       "      <td>3</td>\n",
       "      <td>automobile</td>\n",
       "      <td>Second-Gen Audi Q5 launched at ₹53.25 Lakh</td>\n",
       "      <td>Audi has launched the all-new Q5 with a price ...</td>\n",
       "      <td>http://images.newsinshorts.com.edgesuite.net/a...</td>\n",
       "      <td>https://youtu.be/EiJPF_aVbyo</td>\n",
       "      <td>dysqqgqf-1</td>\n",
       "    </tr>\n",
       "  </tbody>\n",
       "</table>\n",
       "</div>"
      ],
      "text/plain": [
       "   ind        catg                                           headline  \\\n",
       "0    1  automobile  Toyota gives increased comfort & safety featur...   \n",
       "1    2  automobile  Vodafone uses AR in PBL to promote new campaig...   \n",
       "2    3  automobile         Second-Gen Audi Q5 launched at ₹53.25 Lakh   \n",
       "\n",
       "                                                body  \\\n",
       "0  Toyota's Etios and Liva have 14 Standard Safet...   \n",
       "1  Several pugs gatecrashed the finals of Vodafon...   \n",
       "2  Audi has launched the all-new Q5 with a price ...   \n",
       "\n",
       "                                            imageurl  \\\n",
       "0  http://images.newsinshorts.com.edgesuite.net/a...   \n",
       "1  http://images.newsinshorts.com.edgesuite.net/a...   \n",
       "2  http://images.newsinshorts.com.edgesuite.net/a...   \n",
       "\n",
       "                     readmoreurl   inblockId  \n",
       "0  https://youtu.be/-_PqPwvecyE   dysqqgqf-1  \n",
       "1  https://youtu.be/yY_MRk3KEhw   dysqqgqf-1  \n",
       "2  https://youtu.be/EiJPF_aVbyo   dysqqgqf-1  "
      ]
     },
     "execution_count": 30,
     "metadata": {},
     "output_type": "execute_result"
    }
   ],
   "source": [
    "# in this section we read data into a pandas DataFrame\n",
    "fnames = os.listdir('Data')\n",
    "frames = [pd.read_csv('Data/'+name_) for name_ in fnames]\n",
    "data = pd.concat(frames,axis=0,ignore_index=True)\n",
    "data.head(n=3)"
   ]
  },
  {
   "cell_type": "code",
   "execution_count": 31,
   "metadata": {
    "collapsed": false,
    "deletable": true,
    "editable": true
   },
   "outputs": [
    {
     "data": {
      "text/html": [
       "<div>\n",
       "<style>\n",
       "    .dataframe thead tr:only-child th {\n",
       "        text-align: right;\n",
       "    }\n",
       "\n",
       "    .dataframe thead th {\n",
       "        text-align: left;\n",
       "    }\n",
       "\n",
       "    .dataframe tbody tr th {\n",
       "        vertical-align: top;\n",
       "    }\n",
       "</style>\n",
       "<table border=\"1\" class=\"dataframe\">\n",
       "  <thead>\n",
       "    <tr style=\"text-align: right;\">\n",
       "      <th></th>\n",
       "      <th>catg</th>\n",
       "      <th>body</th>\n",
       "    </tr>\n",
       "  </thead>\n",
       "  <tbody>\n",
       "    <tr>\n",
       "      <th>0</th>\n",
       "      <td>automobile</td>\n",
       "      <td>Toyota's Etios and Liva have 14 Standard Safet...</td>\n",
       "    </tr>\n",
       "    <tr>\n",
       "      <th>1</th>\n",
       "      <td>automobile</td>\n",
       "      <td>Several pugs gatecrashed the finals of Vodafon...</td>\n",
       "    </tr>\n",
       "    <tr>\n",
       "      <th>2</th>\n",
       "      <td>automobile</td>\n",
       "      <td>Audi has launched the all-new Q5 with a price ...</td>\n",
       "    </tr>\n",
       "    <tr>\n",
       "      <th>3</th>\n",
       "      <td>automobile</td>\n",
       "      <td>Italian supercar maker Lamborghini on Thursday...</td>\n",
       "    </tr>\n",
       "    <tr>\n",
       "      <th>4</th>\n",
       "      <td>automobile</td>\n",
       "      <td>Japanese automaker Honda is recalling 22,084 u...</td>\n",
       "    </tr>\n",
       "  </tbody>\n",
       "</table>\n",
       "</div>"
      ],
      "text/plain": [
       "         catg                                               body\n",
       "0  automobile  Toyota's Etios and Liva have 14 Standard Safet...\n",
       "1  automobile  Several pugs gatecrashed the finals of Vodafon...\n",
       "2  automobile  Audi has launched the all-new Q5 with a price ...\n",
       "3  automobile  Italian supercar maker Lamborghini on Thursday...\n",
       "4  automobile  Japanese automaker Honda is recalling 22,084 u..."
      ]
     },
     "execution_count": 31,
     "metadata": {},
     "output_type": "execute_result"
    }
   ],
   "source": [
    "#dropping unnecessary columns from dataframe\n",
    "data = data.drop(['imageurl','headline','ind','readmoreurl','inblockId'],axis=1)\n",
    "data.head()"
   ]
  },
  {
   "cell_type": "code",
   "execution_count": 32,
   "metadata": {
    "collapsed": false,
    "deletable": true,
    "editable": true
   },
   "outputs": [],
   "source": [
    "#remove Puncuation and numbers from our data.\n",
    "import re\n",
    "def remove_punctuation(s):\n",
    "    return re.sub('[^A-Za-z ]','',s)\n",
    "data['body'] = data['body'].apply(lambda x:remove_punctuation(x))"
   ]
  },
  {
   "cell_type": "markdown",
   "metadata": {
    "deletable": true,
    "editable": true
   },
   "source": [
    "### Splitting data into 2 parts"
   ]
  },
  {
   "cell_type": "code",
   "execution_count": 33,
   "metadata": {
    "collapsed": true,
    "deletable": true,
    "editable": true
   },
   "outputs": [],
   "source": [
    "from sklearn.model_selection import train_test_split\n",
    "train,test = train_test_split(data,test_size = 0.35,random_state=42)\n",
    "train = train.reset_index(drop=True)\n",
    "test = test.reset_index(drop=True)"
   ]
  },
  {
   "cell_type": "code",
   "execution_count": 34,
   "metadata": {
    "collapsed": false,
    "deletable": true,
    "editable": true
   },
   "outputs": [
    {
     "data": {
      "text/html": [
       "<div>\n",
       "<style>\n",
       "    .dataframe thead tr:only-child th {\n",
       "        text-align: right;\n",
       "    }\n",
       "\n",
       "    .dataframe thead th {\n",
       "        text-align: left;\n",
       "    }\n",
       "\n",
       "    .dataframe tbody tr th {\n",
       "        vertical-align: top;\n",
       "    }\n",
       "</style>\n",
       "<table border=\"1\" class=\"dataframe\">\n",
       "  <thead>\n",
       "    <tr style=\"text-align: right;\">\n",
       "      <th></th>\n",
       "      <th>catg</th>\n",
       "      <th>body</th>\n",
       "    </tr>\n",
       "  </thead>\n",
       "  <tbody>\n",
       "    <tr>\n",
       "      <th>0</th>\n",
       "      <td>automobile</td>\n",
       "      <td>Technology giant Apple is using the same model...</td>\n",
       "    </tr>\n",
       "    <tr>\n",
       "      <th>1</th>\n",
       "      <td>science</td>\n",
       "      <td>A new image from NASAs Chandra Xray Observator...</td>\n",
       "    </tr>\n",
       "    <tr>\n",
       "      <th>2</th>\n",
       "      <td>entertainment</td>\n",
       "      <td>The Mark Hamill late actress Carrie Fisher and...</td>\n",
       "    </tr>\n",
       "    <tr>\n",
       "      <th>3</th>\n",
       "      <td>automobile</td>\n",
       "      <td>Israeli startup StoreDot has created a battery...</td>\n",
       "    </tr>\n",
       "    <tr>\n",
       "      <th>4</th>\n",
       "      <td>world</td>\n",
       "      <td>Facebook has agreed to investigate the spread ...</td>\n",
       "    </tr>\n",
       "  </tbody>\n",
       "</table>\n",
       "</div>"
      ],
      "text/plain": [
       "            catg                                               body\n",
       "0     automobile  Technology giant Apple is using the same model...\n",
       "1        science  A new image from NASAs Chandra Xray Observator...\n",
       "2  entertainment  The Mark Hamill late actress Carrie Fisher and...\n",
       "3     automobile  Israeli startup StoreDot has created a battery...\n",
       "4          world  Facebook has agreed to investigate the spread ..."
      ]
     },
     "execution_count": 34,
     "metadata": {},
     "output_type": "execute_result"
    }
   ],
   "source": [
    "train.head()"
   ]
  },
  {
   "cell_type": "markdown",
   "metadata": {
    "deletable": true,
    "editable": true
   },
   "source": [
    "### Creating CountVectorizer Model From sklearn"
   ]
  },
  {
   "cell_type": "code",
   "execution_count": 35,
   "metadata": {
    "collapsed": true,
    "deletable": true,
    "editable": true
   },
   "outputs": [],
   "source": [
    "from sklearn.feature_extraction.text import CountVectorizer\n",
    "cv = CountVectorizer(stop_words='english',ngram_range=(1,3))\n",
    "train_cv = cv.fit_transform(train['body'])"
   ]
  },
  {
   "cell_type": "code",
   "execution_count": 36,
   "metadata": {
    "collapsed": false,
    "deletable": true,
    "editable": true
   },
   "outputs": [
    {
     "name": "stdout",
     "output_type": "stream",
     "text": [
      "Total Number of feature :  330900\n"
     ]
    }
   ],
   "source": [
    "print(\"Total Number of feature : \",len(cv.vocabulary_))"
   ]
  },
  {
   "cell_type": "markdown",
   "metadata": {
    "deletable": true,
    "editable": true
   },
   "source": [
    "### Selection K best features using chi2 feature selection method"
   ]
  },
  {
   "cell_type": "code",
   "execution_count": 37,
   "metadata": {
    "collapsed": false,
    "deletable": true,
    "editable": true
   },
   "outputs": [],
   "source": [
    "from sklearn.feature_selection import chi2\n",
    "chi2_score = chi2(train_cv,train['catg'])\n",
    "chi2_score = list(zip(cv.get_feature_names(),chi2_score[0]))"
   ]
  },
  {
   "cell_type": "code",
   "execution_count": 38,
   "metadata": {
    "collapsed": false,
    "deletable": true,
    "editable": true
   },
   "outputs": [
    {
     "data": {
      "text/plain": [
       "[('aadhaar card names', 7.6340057636887622),\n",
       " ('aadhaar card pan', 7.4275668073136432),\n",
       " ('aadhaar cards', 15.268011527377524),\n",
       " ('aadhaar cards signing', 7.6340057636887622),\n",
       " ('aadhaar cards test', 7.6340057636887622)]"
      ]
     },
     "execution_count": 38,
     "metadata": {},
     "output_type": "execute_result"
    }
   ],
   "source": [
    "chi2_score[15:20]"
   ]
  },
  {
   "cell_type": "code",
   "execution_count": 39,
   "metadata": {
    "collapsed": false,
    "deletable": true,
    "editable": true
   },
   "outputs": [],
   "source": [
    "chi2_score = sorted(chi2_score,key=lambda x:x[1],reverse=True)"
   ]
  },
  {
   "cell_type": "code",
   "execution_count": 40,
   "metadata": {
    "collapsed": false,
    "deletable": true,
    "editable": true
   },
   "outputs": [
    {
     "data": {
      "image/png": "[encoded data removed]",
      "text/plain": [
       "<matplotlib.figure.Figure at 0x4731f9f4e0>"
      ]
     },
     "metadata": {},
     "output_type": "display_data"
    }
   ],
   "source": [
    "# plotting top features on the chart\n",
    "from pylab import barh,plot,yticks,show,grid,xlabel,figure\n",
    "figure(figsize=(6,6))\n",
    "top_ = chi2_score[:25]\n",
    "top_.reverse()\n",
    "x = range(len(top_))\n",
    "labels = [x[0] for x in top_]\n",
    "barh(x,[x[1] for x in top_],align='center',alpha=.2,color='g')\n",
    "yticks(x,labels)\n",
    "xlabel('$\\chi^2$')\n",
    "show()"
   ]
  },
  {
   "cell_type": "code",
   "execution_count": 59,
   "metadata": {
    "collapsed": false
   },
   "outputs": [],
   "source": [
    "# selection top K feature.\n",
    "K = 5000\n",
    "feature_list = {chi2_score[i][0]:i for i in range(K)}"
   ]
  },
  {
   "cell_type": "code",
   "execution_count": 60,
   "metadata": {
    "collapsed": true
   },
   "outputs": [],
   "source": [
    "# creating new CountVectorizer basec on new selected features\n",
    "\n",
    "new_cv = CountVectorizer(ngram_range=(1,3),stop_words='english',vocabulary=feature_list)\n",
    "train_cv_new = new_cv.transform(train['body'])\n",
    "test_cv_new = new_cv.transform(test['body'])"
   ]
  },
  {
   "cell_type": "code",
   "execution_count": 61,
   "metadata": {
    "collapsed": true
   },
   "outputs": [],
   "source": [
    "# transforming new cv to TfIdf Vector\n",
    "\n",
    "from sklearn.feature_extraction.text import TfidfTransformer\n",
    "tfidf_transformer = TfidfTransformer()\n",
    "tfidf_transformer.fit(train_cv_new)\n",
    "train_tfidf = tfidf_transformer.transform(train_cv_new)\n",
    "test_tfidf = tfidf_transformer.transform(test_cv_new)"
   ]
  },
  {
   "cell_type": "markdown",
   "metadata": {},
   "source": [
    "### Training a Classifier using New CV and TF-IDF vectors"
   ]
  },
  {
   "cell_type": "code",
   "execution_count": 88,
   "metadata": {
    "collapsed": false
   },
   "outputs": [
    {
     "data": {
      "text/plain": [
       "MultinomialNB(alpha=0.1, class_prior=None, fit_prior=True)"
      ]
     },
     "execution_count": 88,
     "metadata": {},
     "output_type": "execute_result"
    }
   ],
   "source": [
    "from sklearn.naive_bayes import MultinomialNB\n",
    "nb_cv_clf = MultinomialNB(alpha=0.1)\n",
    "nb_tfidf_clf = MultinomialNB(alpha=0.1)\n",
    "nb_cv_clf.fit(train_cv_new,train['catg'])\n",
    "nb_tfidf_clf.fit(train_tfidf,train['catg'])"
   ]
  },
  {
   "cell_type": "code",
   "execution_count": 89,
   "metadata": {
    "collapsed": false
   },
   "outputs": [
    {
     "name": "stdout",
     "output_type": "stream",
     "text": [
      "Test Accuracy :  79.795475674 %\n",
      "Train Accuracy :  88.217623498 %\n"
     ]
    }
   ],
   "source": [
    "# accuracy for naive bayes with cv\n",
    "print(\"Test Accuracy : \",nb_cv_clf.score(test_tfidf,test['catg'])*100,\"%\")\n",
    "print(\"Train Accuracy : \",nb_tfidf_clf.score(train_tfidf,train['catg'])*100,\"%\")"
   ]
  },
  {
   "cell_type": "code",
   "execution_count": 90,
   "metadata": {
    "collapsed": false
   },
   "outputs": [
    {
     "name": "stdout",
     "output_type": "stream",
     "text": [
      "Test Accuracy :  80.5082119616 %\n",
      "Train Accuracy :  88.217623498 %\n"
     ]
    }
   ],
   "source": [
    "print(\"Test Accuracy : \",nb_tfidf_clf.score(test_tfidf,test['catg'])*100,\"%\")\n",
    "print(\"Train Accuracy : \",nb_tfidf_clf.score(train_tfidf,train['catg'])*100,\"%\")"
   ]
  },
  {
   "cell_type": "markdown",
   "metadata": {},
   "source": [
    "### Analysing Results on Naive Bayes classifier"
   ]
  },
  {
   "cell_type": "code",
   "execution_count": 91,
   "metadata": {
    "collapsed": false
   },
   "outputs": [],
   "source": [
    "test_output_nb = nb_tfidf_clf.predict(test_tfidf)\n",
    "train_output_nb = nb_tfidf_clf.predict(train_tfidf)"
   ]
  },
  {
   "cell_type": "code",
   "execution_count": 95,
   "metadata": {
    "collapsed": false
   },
   "outputs": [
    {
     "data": {
      "text/html": [
       "<div>\n",
       "<style>\n",
       "    .dataframe thead tr:only-child th {\n",
       "        text-align: right;\n",
       "    }\n",
       "\n",
       "    .dataframe thead th {\n",
       "        text-align: left;\n",
       "    }\n",
       "\n",
       "    .dataframe tbody tr th {\n",
       "        vertical-align: top;\n",
       "    }\n",
       "</style>\n",
       "<table border=\"1\" class=\"dataframe\">\n",
       "  <thead>\n",
       "    <tr style=\"text-align: right;\">\n",
       "      <th>Predicted</th>\n",
       "      <th>automobile</th>\n",
       "      <th>business</th>\n",
       "      <th>entertainment</th>\n",
       "      <th>national</th>\n",
       "      <th>politics</th>\n",
       "      <th>science</th>\n",
       "      <th>sports</th>\n",
       "      <th>technology</th>\n",
       "      <th>world</th>\n",
       "      <th>All</th>\n",
       "    </tr>\n",
       "    <tr>\n",
       "      <th>True</th>\n",
       "      <th></th>\n",
       "      <th></th>\n",
       "      <th></th>\n",
       "      <th></th>\n",
       "      <th></th>\n",
       "      <th></th>\n",
       "      <th></th>\n",
       "      <th></th>\n",
       "      <th></th>\n",
       "      <th></th>\n",
       "    </tr>\n",
       "  </thead>\n",
       "  <tbody>\n",
       "    <tr>\n",
       "      <th>automobile</th>\n",
       "      <td>315</td>\n",
       "      <td>8</td>\n",
       "      <td>3</td>\n",
       "      <td>3</td>\n",
       "      <td>0</td>\n",
       "      <td>1</td>\n",
       "      <td>0</td>\n",
       "      <td>13</td>\n",
       "      <td>2</td>\n",
       "      <td>345</td>\n",
       "    </tr>\n",
       "    <tr>\n",
       "      <th>business</th>\n",
       "      <td>16</td>\n",
       "      <td>310</td>\n",
       "      <td>1</td>\n",
       "      <td>16</td>\n",
       "      <td>8</td>\n",
       "      <td>2</td>\n",
       "      <td>0</td>\n",
       "      <td>32</td>\n",
       "      <td>12</td>\n",
       "      <td>397</td>\n",
       "    </tr>\n",
       "    <tr>\n",
       "      <th>entertainment</th>\n",
       "      <td>1</td>\n",
       "      <td>2</td>\n",
       "      <td>315</td>\n",
       "      <td>33</td>\n",
       "      <td>5</td>\n",
       "      <td>0</td>\n",
       "      <td>13</td>\n",
       "      <td>1</td>\n",
       "      <td>12</td>\n",
       "      <td>382</td>\n",
       "    </tr>\n",
       "    <tr>\n",
       "      <th>national</th>\n",
       "      <td>3</td>\n",
       "      <td>22</td>\n",
       "      <td>11</td>\n",
       "      <td>227</td>\n",
       "      <td>49</td>\n",
       "      <td>5</td>\n",
       "      <td>2</td>\n",
       "      <td>6</td>\n",
       "      <td>38</td>\n",
       "      <td>363</td>\n",
       "    </tr>\n",
       "    <tr>\n",
       "      <th>politics</th>\n",
       "      <td>0</td>\n",
       "      <td>2</td>\n",
       "      <td>3</td>\n",
       "      <td>38</td>\n",
       "      <td>221</td>\n",
       "      <td>0</td>\n",
       "      <td>0</td>\n",
       "      <td>1</td>\n",
       "      <td>1</td>\n",
       "      <td>266</td>\n",
       "    </tr>\n",
       "    <tr>\n",
       "      <th>science</th>\n",
       "      <td>3</td>\n",
       "      <td>3</td>\n",
       "      <td>0</td>\n",
       "      <td>6</td>\n",
       "      <td>0</td>\n",
       "      <td>340</td>\n",
       "      <td>1</td>\n",
       "      <td>10</td>\n",
       "      <td>3</td>\n",
       "      <td>366</td>\n",
       "    </tr>\n",
       "    <tr>\n",
       "      <th>sports</th>\n",
       "      <td>1</td>\n",
       "      <td>2</td>\n",
       "      <td>20</td>\n",
       "      <td>8</td>\n",
       "      <td>3</td>\n",
       "      <td>1</td>\n",
       "      <td>317</td>\n",
       "      <td>1</td>\n",
       "      <td>7</td>\n",
       "      <td>360</td>\n",
       "    </tr>\n",
       "    <tr>\n",
       "      <th>technology</th>\n",
       "      <td>24</td>\n",
       "      <td>33</td>\n",
       "      <td>6</td>\n",
       "      <td>8</td>\n",
       "      <td>1</td>\n",
       "      <td>17</td>\n",
       "      <td>0</td>\n",
       "      <td>269</td>\n",
       "      <td>11</td>\n",
       "      <td>369</td>\n",
       "    </tr>\n",
       "    <tr>\n",
       "      <th>world</th>\n",
       "      <td>5</td>\n",
       "      <td>19</td>\n",
       "      <td>2</td>\n",
       "      <td>40</td>\n",
       "      <td>0</td>\n",
       "      <td>10</td>\n",
       "      <td>3</td>\n",
       "      <td>16</td>\n",
       "      <td>284</td>\n",
       "      <td>379</td>\n",
       "    </tr>\n",
       "    <tr>\n",
       "      <th>All</th>\n",
       "      <td>368</td>\n",
       "      <td>401</td>\n",
       "      <td>361</td>\n",
       "      <td>379</td>\n",
       "      <td>287</td>\n",
       "      <td>376</td>\n",
       "      <td>336</td>\n",
       "      <td>349</td>\n",
       "      <td>370</td>\n",
       "      <td>3227</td>\n",
       "    </tr>\n",
       "  </tbody>\n",
       "</table>\n",
       "</div>"
      ],
      "text/plain": [
       "Predicted      automobile  business  entertainment  national  politics  \\\n",
       "True                                                                     \n",
       "automobile            315         8              3         3         0   \n",
       "business               16       310              1        16         8   \n",
       "entertainment           1         2            315        33         5   \n",
       "national                3        22             11       227        49   \n",
       "politics                0         2              3        38       221   \n",
       "science                 3         3              0         6         0   \n",
       "sports                  1         2             20         8         3   \n",
       "technology             24        33              6         8         1   \n",
       "world                   5        19              2        40         0   \n",
       "All                   368       401            361       379       287   \n",
       "\n",
       "Predicted      science  sports  technology  world   All  \n",
       "True                                                     \n",
       "automobile           1       0          13      2   345  \n",
       "business             2       0          32     12   397  \n",
       "entertainment        0      13           1     12   382  \n",
       "national             5       2           6     38   363  \n",
       "politics             0       0           1      1   266  \n",
       "science            340       1          10      3   366  \n",
       "sports               1     317           1      7   360  \n",
       "technology          17       0         269     11   369  \n",
       "world               10       3          16    284   379  \n",
       "All                376     336         349    370  3227  "
      ]
     },
     "execution_count": 95,
     "metadata": {},
     "output_type": "execute_result"
    }
   ],
   "source": [
    "pd.crosstab(test['catg'],test_output_nb,rownames=['True'],colnames=['Predicted'],margins=True)"
   ]
  },
  {
   "cell_type": "markdown",
   "metadata": {},
   "source": [
    "### Training a SVM classifier and analysing results"
   ]
  },
  {
   "cell_type": "code",
   "execution_count": 69,
   "metadata": {
    "collapsed": false
   },
   "outputs": [
    {
     "data": {
      "text/plain": [
       "SVC(C=1000, cache_size=200, class_weight=None, coef0=0.0,\n",
       "  decision_function_shape=None, degree=3, gamma='auto', kernel='rbf',\n",
       "  max_iter=-1, probability=False, random_state=None, shrinking=True,\n",
       "  tol=0.001, verbose=False)"
      ]
     },
     "execution_count": 69,
     "metadata": {},
     "output_type": "execute_result"
    }
   ],
   "source": [
    "from sklearn.svm import SVC\n",
    "from sklearn.model_selection import GridSearchCV\n",
    "\n",
    "svm_tfidf_clf = SVC(kernel='rbf',C=1000)\n",
    "svm_tfidf_clf.fit(train_tfidf,train['catg'])"
   ]
  },
  {
   "cell_type": "code",
   "execution_count": 79,
   "metadata": {
    "collapsed": false
   },
   "outputs": [
    {
     "name": "stdout",
     "output_type": "stream",
     "text": [
      "Test Accuracy :  80.6011775643 %\n",
      "Train Accuraccy :  88.5514018692 %\n"
     ]
    }
   ],
   "source": [
    "print(\"Test Accuracy : \",svm_tfidf_clf.score(test_tfidf,test['catg'])*100,\"%\")\n",
    "print(\"Train Accuraccy : \",svm_tfidf_clf.score(train_tfidf,train['catg'])*100,\"%\")"
   ]
  },
  {
   "cell_type": "code",
   "execution_count": 84,
   "metadata": {
    "collapsed": true
   },
   "outputs": [],
   "source": [
    "test_output_svm = svm_tfidf_clf.predict(test_tfidf)\n",
    "train_output_svm = svm_tfidf_clf.predict(train_tfidf)"
   ]
  },
  {
   "cell_type": "code",
   "execution_count": 86,
   "metadata": {
    "collapsed": false
   },
   "outputs": [
    {
     "data": {
      "text/html": [
       "<div>\n",
       "<style>\n",
       "    .dataframe thead tr:only-child th {\n",
       "        text-align: right;\n",
       "    }\n",
       "\n",
       "    .dataframe thead th {\n",
       "        text-align: left;\n",
       "    }\n",
       "\n",
       "    .dataframe tbody tr th {\n",
       "        vertical-align: top;\n",
       "    }\n",
       "</style>\n",
       "<table border=\"1\" class=\"dataframe\">\n",
       "  <thead>\n",
       "    <tr style=\"text-align: right;\">\n",
       "      <th>Predicted</th>\n",
       "      <th>automobile</th>\n",
       "      <th>business</th>\n",
       "      <th>entertainment</th>\n",
       "      <th>national</th>\n",
       "      <th>politics</th>\n",
       "      <th>science</th>\n",
       "      <th>sports</th>\n",
       "      <th>technology</th>\n",
       "      <th>world</th>\n",
       "      <th>All</th>\n",
       "    </tr>\n",
       "    <tr>\n",
       "      <th>True</th>\n",
       "      <th></th>\n",
       "      <th></th>\n",
       "      <th></th>\n",
       "      <th></th>\n",
       "      <th></th>\n",
       "      <th></th>\n",
       "      <th></th>\n",
       "      <th></th>\n",
       "      <th></th>\n",
       "      <th></th>\n",
       "    </tr>\n",
       "  </thead>\n",
       "  <tbody>\n",
       "    <tr>\n",
       "      <th>automobile</th>\n",
       "      <td>310</td>\n",
       "      <td>10</td>\n",
       "      <td>1</td>\n",
       "      <td>5</td>\n",
       "      <td>1</td>\n",
       "      <td>2</td>\n",
       "      <td>0</td>\n",
       "      <td>13</td>\n",
       "      <td>3</td>\n",
       "      <td>345</td>\n",
       "    </tr>\n",
       "    <tr>\n",
       "      <th>business</th>\n",
       "      <td>15</td>\n",
       "      <td>311</td>\n",
       "      <td>1</td>\n",
       "      <td>21</td>\n",
       "      <td>6</td>\n",
       "      <td>1</td>\n",
       "      <td>0</td>\n",
       "      <td>30</td>\n",
       "      <td>12</td>\n",
       "      <td>397</td>\n",
       "    </tr>\n",
       "    <tr>\n",
       "      <th>entertainment</th>\n",
       "      <td>0</td>\n",
       "      <td>3</td>\n",
       "      <td>305</td>\n",
       "      <td>35</td>\n",
       "      <td>4</td>\n",
       "      <td>0</td>\n",
       "      <td>20</td>\n",
       "      <td>2</td>\n",
       "      <td>13</td>\n",
       "      <td>382</td>\n",
       "    </tr>\n",
       "    <tr>\n",
       "      <th>national</th>\n",
       "      <td>4</td>\n",
       "      <td>19</td>\n",
       "      <td>9</td>\n",
       "      <td>237</td>\n",
       "      <td>45</td>\n",
       "      <td>3</td>\n",
       "      <td>3</td>\n",
       "      <td>6</td>\n",
       "      <td>37</td>\n",
       "      <td>363</td>\n",
       "    </tr>\n",
       "    <tr>\n",
       "      <th>politics</th>\n",
       "      <td>0</td>\n",
       "      <td>3</td>\n",
       "      <td>6</td>\n",
       "      <td>35</td>\n",
       "      <td>221</td>\n",
       "      <td>0</td>\n",
       "      <td>0</td>\n",
       "      <td>0</td>\n",
       "      <td>1</td>\n",
       "      <td>266</td>\n",
       "    </tr>\n",
       "    <tr>\n",
       "      <th>science</th>\n",
       "      <td>1</td>\n",
       "      <td>3</td>\n",
       "      <td>1</td>\n",
       "      <td>5</td>\n",
       "      <td>0</td>\n",
       "      <td>343</td>\n",
       "      <td>1</td>\n",
       "      <td>8</td>\n",
       "      <td>4</td>\n",
       "      <td>366</td>\n",
       "    </tr>\n",
       "    <tr>\n",
       "      <th>sports</th>\n",
       "      <td>3</td>\n",
       "      <td>2</td>\n",
       "      <td>12</td>\n",
       "      <td>14</td>\n",
       "      <td>4</td>\n",
       "      <td>2</td>\n",
       "      <td>314</td>\n",
       "      <td>2</td>\n",
       "      <td>7</td>\n",
       "      <td>360</td>\n",
       "    </tr>\n",
       "    <tr>\n",
       "      <th>technology</th>\n",
       "      <td>18</td>\n",
       "      <td>34</td>\n",
       "      <td>5</td>\n",
       "      <td>10</td>\n",
       "      <td>0</td>\n",
       "      <td>17</td>\n",
       "      <td>0</td>\n",
       "      <td>276</td>\n",
       "      <td>9</td>\n",
       "      <td>369</td>\n",
       "    </tr>\n",
       "    <tr>\n",
       "      <th>world</th>\n",
       "      <td>3</td>\n",
       "      <td>21</td>\n",
       "      <td>1</td>\n",
       "      <td>45</td>\n",
       "      <td>0</td>\n",
       "      <td>7</td>\n",
       "      <td>1</td>\n",
       "      <td>17</td>\n",
       "      <td>284</td>\n",
       "      <td>379</td>\n",
       "    </tr>\n",
       "    <tr>\n",
       "      <th>All</th>\n",
       "      <td>354</td>\n",
       "      <td>406</td>\n",
       "      <td>341</td>\n",
       "      <td>407</td>\n",
       "      <td>281</td>\n",
       "      <td>375</td>\n",
       "      <td>339</td>\n",
       "      <td>354</td>\n",
       "      <td>370</td>\n",
       "      <td>3227</td>\n",
       "    </tr>\n",
       "  </tbody>\n",
       "</table>\n",
       "</div>"
      ],
      "text/plain": [
       "Predicted      automobile  business  entertainment  national  politics  \\\n",
       "True                                                                     \n",
       "automobile            310        10              1         5         1   \n",
       "business               15       311              1        21         6   \n",
       "entertainment           0         3            305        35         4   \n",
       "national                4        19              9       237        45   \n",
       "politics                0         3              6        35       221   \n",
       "science                 1         3              1         5         0   \n",
       "sports                  3         2             12        14         4   \n",
       "technology             18        34              5        10         0   \n",
       "world                   3        21              1        45         0   \n",
       "All                   354       406            341       407       281   \n",
       "\n",
       "Predicted      science  sports  technology  world   All  \n",
       "True                                                     \n",
       "automobile           2       0          13      3   345  \n",
       "business             1       0          30     12   397  \n",
       "entertainment        0      20           2     13   382  \n",
       "national             3       3           6     37   363  \n",
       "politics             0       0           0      1   266  \n",
       "science            343       1           8      4   366  \n",
       "sports               2     314           2      7   360  \n",
       "technology          17       0         276      9   369  \n",
       "world                7       1          17    284   379  \n",
       "All                375     339         354    370  3227  "
      ]
     },
     "execution_count": 86,
     "metadata": {},
     "output_type": "execute_result"
    }
   ],
   "source": [
    "#confusion matrix for svm classifier\n",
    "\n",
    "pd.crosstab(test['catg'],test_output_svm,rownames=['True'],colnames=['Predicted'],margins=True)"
   ]
  },
  {
   "cell_type": "markdown",
   "metadata": {},
   "source": [
    "### Predicting new Results from Inshorts Site"
   ]
  },
  {
   "cell_type": "code",
   "execution_count": 104,
   "metadata": {
    "collapsed": true
   },
   "outputs": [],
   "source": [
    "s = '''\n",
    "CBI has booked Delhi-based diamond exporter Dwarka Das Seth International for an alleged ₹389.85-crore fraud at Oriental Bank of Commerce (OBC). Since 2007, Dwarka Das availed various credit facilities from OBC using Letters of Credit by foreign banks to pay off creditors for purchasing precious metals. This continued till OBC noticed that some of those banks were poorly rated.\n",
    "\n",
    "'''"
   ]
  },
  {
   "cell_type": "code",
   "execution_count": 105,
   "metadata": {
    "collapsed": false
   },
   "outputs": [
    {
     "name": "stdout",
     "output_type": "stream",
     "text": [
      "['business']\n"
     ]
    }
   ],
   "source": [
    "string_ = remove_punctuation(s)\n",
    "cv_vec = new_cv.transform([string_])\n",
    "vec__ = tfidf_transformer.transform(cv_vec)\n",
    "print(nb_tfidf_clf.predict(vec__))"
   ]
  }
 ],
 "metadata": {
  "kernelspec": {
   "display_name": "Python 3",
   "language": "python",
   "name": "python3"
  },
  "language_info": {
   "codemirror_mode": {
    "name": "ipython",
    "version": 3
   },
   "file_extension": ".py",
   "mimetype": "text/x-python",
   "name": "python",
   "nbconvert_exporter": "python",
   "pygments_lexer": "ipython3",
   "version": "3.5.2"
  }
 },
 "nbformat": 4,
 "nbformat_minor": 2
}
