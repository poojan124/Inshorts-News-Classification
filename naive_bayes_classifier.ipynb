{
 "cells": [
  {
   "cell_type": "markdown",
   "metadata": {
    "deletable": true,
    "editable": true
   },
   "source": [
    "## Naive Bayes Classifier For Inshorts News Data\n",
    "This is notebook in which we are going to use naive bayes classifier from scikit learn. There are many method for text classification like Naive Bayes, Svm, LDA and many more. This notebook will walk through simple implementation of Naive Bayes Classifier.\n",
    "\n",
    "### Text Classification -Feature Representation-\n",
    "Most of the Ml algorithms take numerical input. So in case of text classification we need a representation that map words to number and those number will be feeded to algorithm. Most popular representation is __BOW__(Bag of Words Model). In bag of word model columns represent feature(word) and each row represents a document.   \n",
    " __EX :__  \n",
    "   __Doc1__ = \"This line contains word1 and word2.\"  \n",
    "   __Doc1__ = \"This sentence contains word2 and word2.\"   \n",
    "   \n",
    "|      | this | line | contains | word1 | and | word2 | sentence |\n",
    "|------|------|------|----------|-------|-----|-------|----------|\n",
    "| Doc1 | 1    | 1    | 1        | 1     | 1   | 1     | 0        |\n",
    "| Doc2 | 1    | 0    | 1        | 0     | 1   | 2     | 1        |\n",
    "\n",
    "### Naive Bayes Model \n",
    "Naive Bayes model is fast and produce very good result for text classification task. There are 3 type of probability in Naive Bayes formula.  \n",
    ">1.Prior probability   (Its class probability how likly this class appear in data.)  \n",
    "2.likelihood   (This is what we calculate from training data.)  \n",
    "3.posterior probability.  (Using prior prob. and likelihood we calculate posterior.)  \n",
    "\n",
    "Note that here predictors prior probabilty is ignored because its constant for all classes so posterior is only depends on prior and likelihood.  \n",
    "![alt text](Bayes_rule.png \"Logo Title Text 1\")  \n",
    "We calculate posterior probabilty for all classes for some given document D.    \n",
    "#### argmax<sub>i</sub>( *P*( C<sub>i</sub> / D) )  \n",
    "For i range(1,m), where m = total number of classes"
   ]
  },
  {
   "cell_type": "code",
   "execution_count": 1,
   "metadata": {
    "collapsed": true,
    "deletable": true,
    "editable": true
   },
   "outputs": [],
   "source": [
    "import os\n",
    "import pandas as pd\n",
    "import numpy as np\n",
    "import re"
   ]
  },
  {
   "cell_type": "code",
   "execution_count": 4,
   "metadata": {
    "collapsed": false,
    "deletable": true,
    "editable": true
   },
   "outputs": [
    {
     "data": {
      "text/html": [
       "<div>\n",
       "<style>\n",
       "    .dataframe thead tr:only-child th {\n",
       "        text-align: right;\n",
       "    }\n",
       "\n",
       "    .dataframe thead th {\n",
       "        text-align: left;\n",
       "    }\n",
       "\n",
       "    .dataframe tbody tr th {\n",
       "        vertical-align: top;\n",
       "    }\n",
       "</style>\n",
       "<table border=\"1\" class=\"dataframe\">\n",
       "  <thead>\n",
       "    <tr style=\"text-align: right;\">\n",
       "      <th></th>\n",
       "      <th>ind</th>\n",
       "      <th>catg</th>\n",
       "      <th>headline</th>\n",
       "      <th>body</th>\n",
       "      <th>imageurl</th>\n",
       "      <th>readmoreurl</th>\n",
       "      <th>inblockId</th>\n",
       "    </tr>\n",
       "  </thead>\n",
       "  <tbody>\n",
       "    <tr>\n",
       "      <th>0</th>\n",
       "      <td>1</td>\n",
       "      <td>automobile</td>\n",
       "      <td>Toyota gives increased comfort &amp; safety featur...</td>\n",
       "      <td>Toyota's Etios and Liva have 14 Standard Safet...</td>\n",
       "      <td>http://images.newsinshorts.com.edgesuite.net/a...</td>\n",
       "      <td>https://youtu.be/-_PqPwvecyE</td>\n",
       "      <td>dysqqgqf-1</td>\n",
       "    </tr>\n",
       "    <tr>\n",
       "      <th>1</th>\n",
       "      <td>2</td>\n",
       "      <td>automobile</td>\n",
       "      <td>Vodafone uses AR in PBL to promote new campaig...</td>\n",
       "      <td>Several pugs gatecrashed the finals of Vodafon...</td>\n",
       "      <td>http://images.newsinshorts.com.edgesuite.net/a...</td>\n",
       "      <td>https://youtu.be/yY_MRk3KEhw</td>\n",
       "      <td>dysqqgqf-1</td>\n",
       "    </tr>\n",
       "    <tr>\n",
       "      <th>2</th>\n",
       "      <td>3</td>\n",
       "      <td>automobile</td>\n",
       "      <td>Second-Gen Audi Q5 launched at ₹53.25 Lakh</td>\n",
       "      <td>Audi has launched the all-new Q5 with a price ...</td>\n",
       "      <td>http://images.newsinshorts.com.edgesuite.net/a...</td>\n",
       "      <td>https://youtu.be/EiJPF_aVbyo</td>\n",
       "      <td>dysqqgqf-1</td>\n",
       "    </tr>\n",
       "    <tr>\n",
       "      <th>3</th>\n",
       "      <td>4</td>\n",
       "      <td>automobile</td>\n",
       "      <td>World's fastest SUV Lamborghini Urus launched ...</td>\n",
       "      <td>Italian supercar maker Lamborghini on Thursday...</td>\n",
       "      <td>http://images.newsinshorts.com.edgesuite.net/a...</td>\n",
       "      <td>http://www.india.com/auto/car-news/lamborghini...</td>\n",
       "      <td>dysqqgqf-1</td>\n",
       "    </tr>\n",
       "    <tr>\n",
       "      <th>4</th>\n",
       "      <td>5</td>\n",
       "      <td>automobile</td>\n",
       "      <td>22000 Honda City units recalled in India over ...</td>\n",
       "      <td>Japanese automaker Honda is recalling 22,084 u...</td>\n",
       "      <td>http://images.newsinshorts.com.edgesuite.net/a...</td>\n",
       "      <td>http://www.livemint.com/Companies/gR3h813hD6ex...</td>\n",
       "      <td>dysqqgqf-1</td>\n",
       "    </tr>\n",
       "  </tbody>\n",
       "</table>\n",
       "</div>"
      ],
      "text/plain": [
       "   ind        catg                                           headline  \\\n",
       "0    1  automobile  Toyota gives increased comfort & safety featur...   \n",
       "1    2  automobile  Vodafone uses AR in PBL to promote new campaig...   \n",
       "2    3  automobile         Second-Gen Audi Q5 launched at ₹53.25 Lakh   \n",
       "3    4  automobile  World's fastest SUV Lamborghini Urus launched ...   \n",
       "4    5  automobile  22000 Honda City units recalled in India over ...   \n",
       "\n",
       "                                                body  \\\n",
       "0  Toyota's Etios and Liva have 14 Standard Safet...   \n",
       "1  Several pugs gatecrashed the finals of Vodafon...   \n",
       "2  Audi has launched the all-new Q5 with a price ...   \n",
       "3  Italian supercar maker Lamborghini on Thursday...   \n",
       "4  Japanese automaker Honda is recalling 22,084 u...   \n",
       "\n",
       "                                            imageurl  \\\n",
       "0  http://images.newsinshorts.com.edgesuite.net/a...   \n",
       "1  http://images.newsinshorts.com.edgesuite.net/a...   \n",
       "2  http://images.newsinshorts.com.edgesuite.net/a...   \n",
       "3  http://images.newsinshorts.com.edgesuite.net/a...   \n",
       "4  http://images.newsinshorts.com.edgesuite.net/a...   \n",
       "\n",
       "                                         readmoreurl   inblockId  \n",
       "0                      https://youtu.be/-_PqPwvecyE   dysqqgqf-1  \n",
       "1                      https://youtu.be/yY_MRk3KEhw   dysqqgqf-1  \n",
       "2                      https://youtu.be/EiJPF_aVbyo   dysqqgqf-1  \n",
       "3  http://www.india.com/auto/car-news/lamborghini...  dysqqgqf-1  \n",
       "4  http://www.livemint.com/Companies/gR3h813hD6ex...  dysqqgqf-1  "
      ]
     },
     "execution_count": 4,
     "metadata": {},
     "output_type": "execute_result"
    }
   ],
   "source": [
    "# in this section we read data \n",
    "fnames = os.listdir('Data')\n",
    "frames = [pd.read_csv('Data/'+name_) for name_ in fnames]\n",
    "data = pd.concat(frames,axis=0,ignore_index=True)\n",
    "data.head()"
   ]
  },
  {
   "cell_type": "code",
   "execution_count": 7,
   "metadata": {
    "collapsed": false
   },
   "outputs": [],
   "source": [
    "#dropping unnecessary columns from dataframe\n",
    "data = data.drop(['imageurl','headline','ind','readmoreurl','inblockId'],axis=1)"
   ]
  },
  {
   "cell_type": "code",
   "execution_count": 8,
   "metadata": {
    "collapsed": false
   },
   "outputs": [
    {
     "data": {
      "text/html": [
       "<div>\n",
       "<style>\n",
       "    .dataframe thead tr:only-child th {\n",
       "        text-align: right;\n",
       "    }\n",
       "\n",
       "    .dataframe thead th {\n",
       "        text-align: left;\n",
       "    }\n",
       "\n",
       "    .dataframe tbody tr th {\n",
       "        vertical-align: top;\n",
       "    }\n",
       "</style>\n",
       "<table border=\"1\" class=\"dataframe\">\n",
       "  <thead>\n",
       "    <tr style=\"text-align: right;\">\n",
       "      <th></th>\n",
       "      <th>catg</th>\n",
       "      <th>body</th>\n",
       "    </tr>\n",
       "  </thead>\n",
       "  <tbody>\n",
       "    <tr>\n",
       "      <th>0</th>\n",
       "      <td>automobile</td>\n",
       "      <td>Toyota's Etios and Liva have 14 Standard Safet...</td>\n",
       "    </tr>\n",
       "    <tr>\n",
       "      <th>1</th>\n",
       "      <td>automobile</td>\n",
       "      <td>Several pugs gatecrashed the finals of Vodafon...</td>\n",
       "    </tr>\n",
       "    <tr>\n",
       "      <th>2</th>\n",
       "      <td>automobile</td>\n",
       "      <td>Audi has launched the all-new Q5 with a price ...</td>\n",
       "    </tr>\n",
       "    <tr>\n",
       "      <th>3</th>\n",
       "      <td>automobile</td>\n",
       "      <td>Italian supercar maker Lamborghini on Thursday...</td>\n",
       "    </tr>\n",
       "    <tr>\n",
       "      <th>4</th>\n",
       "      <td>automobile</td>\n",
       "      <td>Japanese automaker Honda is recalling 22,084 u...</td>\n",
       "    </tr>\n",
       "  </tbody>\n",
       "</table>\n",
       "</div>"
      ],
      "text/plain": [
       "         catg                                               body\n",
       "0  automobile  Toyota's Etios and Liva have 14 Standard Safet...\n",
       "1  automobile  Several pugs gatecrashed the finals of Vodafon...\n",
       "2  automobile  Audi has launched the all-new Q5 with a price ...\n",
       "3  automobile  Italian supercar maker Lamborghini on Thursday...\n",
       "4  automobile  Japanese automaker Honda is recalling 22,084 u..."
      ]
     },
     "execution_count": 8,
     "metadata": {},
     "output_type": "execute_result"
    }
   ],
   "source": [
    "data.head()"
   ]
  },
  {
   "cell_type": "code",
   "execution_count": 23,
   "metadata": {
    "collapsed": false
   },
   "outputs": [],
   "source": [
    "#remove Puncuation\n",
    "from nltk.corpus import stopwords\n",
    "sw = set(stopwords.words('english'))\n",
    "sw = [(re.sub('[^A-Za-z ]','',x)) for x in sw]\n",
    "data['body'] = data['body'].apply(lambda x:re.sub('[^A-Za-z ]','',x))"
   ]
  },
  {
   "cell_type": "code",
   "execution_count": 24,
   "metadata": {
    "collapsed": false
   },
   "outputs": [
    {
     "data": {
      "text/html": [
       "<div>\n",
       "<style>\n",
       "    .dataframe thead tr:only-child th {\n",
       "        text-align: right;\n",
       "    }\n",
       "\n",
       "    .dataframe thead th {\n",
       "        text-align: left;\n",
       "    }\n",
       "\n",
       "    .dataframe tbody tr th {\n",
       "        vertical-align: top;\n",
       "    }\n",
       "</style>\n",
       "<table border=\"1\" class=\"dataframe\">\n",
       "  <thead>\n",
       "    <tr style=\"text-align: right;\">\n",
       "      <th></th>\n",
       "      <th>catg</th>\n",
       "      <th>body</th>\n",
       "    </tr>\n",
       "  </thead>\n",
       "  <tbody>\n",
       "    <tr>\n",
       "      <th>0</th>\n",
       "      <td>automobile</td>\n",
       "      <td>Toyotas Etios and Liva have  Standard Safety f...</td>\n",
       "    </tr>\n",
       "    <tr>\n",
       "      <th>1</th>\n",
       "      <td>automobile</td>\n",
       "      <td>Several pugs gatecrashed the finals of Vodafon...</td>\n",
       "    </tr>\n",
       "    <tr>\n",
       "      <th>2</th>\n",
       "      <td>automobile</td>\n",
       "      <td>Audi has launched the allnew Q with a price ra...</td>\n",
       "    </tr>\n",
       "    <tr>\n",
       "      <th>3</th>\n",
       "      <td>automobile</td>\n",
       "      <td>Italian supercar maker Lamborghini on Thursday...</td>\n",
       "    </tr>\n",
       "    <tr>\n",
       "      <th>4</th>\n",
       "      <td>automobile</td>\n",
       "      <td>Japanese automaker Honda is recalling  units o...</td>\n",
       "    </tr>\n",
       "  </tbody>\n",
       "</table>\n",
       "</div>"
      ],
      "text/plain": [
       "         catg                                               body\n",
       "0  automobile  Toyotas Etios and Liva have  Standard Safety f...\n",
       "1  automobile  Several pugs gatecrashed the finals of Vodafon...\n",
       "2  automobile  Audi has launched the allnew Q with a price ra...\n",
       "3  automobile  Italian supercar maker Lamborghini on Thursday...\n",
       "4  automobile  Japanese automaker Honda is recalling  units o..."
      ]
     },
     "execution_count": 24,
     "metadata": {},
     "output_type": "execute_result"
    }
   ],
   "source": [
    "data.head()"
   ]
  },
  {
   "cell_type": "code",
   "execution_count": 25,
   "metadata": {
    "collapsed": true
   },
   "outputs": [],
   "source": [
    "# This will split data into 2 sets. One will used for training and one will be for testing.\n",
    "# sklearn train_test_split method will split data and also randomize data with random_state aregument. We can test different models by using same random_state split every time. \n",
    "\n",
    "from sklearn.model_selection import train_test_split\n",
    "xtrain,xtest,ytrain,ytest = train_test_split(data['body'],data['catg'],test_size=0.35,random_state=42)"
   ]
  },
  {
   "cell_type": "code",
   "execution_count": 29,
   "metadata": {
    "collapsed": false
   },
   "outputs": [],
   "source": [
    "# since we are going to use Naive Bayes Classifier we will use word count as feature and not any tf-idf.(bcs raw word count works better for naive bayes in comparison of tf-idf)\n",
    "# sklearn provied a very simple implementation of BOW model(CountVectorizer)\n",
    "\n",
    "from sklearn.feature_extraction.text import CountVectorizer\n",
    "cv = CountVectorizer(stop_words = sw,ngram_range = (1,3),max_features = 20000)\n",
    "xtrain_vec = cv.fit_transform(xtrain)"
   ]
  },
  {
   "cell_type": "code",
   "execution_count": 30,
   "metadata": {
    "collapsed": true
   },
   "outputs": [],
   "source": [
    "# transform our \n",
    "xtest_vec = cv.transform(xtest)"
   ]
  },
  {
   "cell_type": "code",
   "execution_count": 34,
   "metadata": {
    "collapsed": false
   },
   "outputs": [
    {
     "data": {
      "text/plain": [
       "MultinomialNB(alpha=1.0, class_prior=None, fit_prior=True)"
      ]
     },
     "execution_count": 34,
     "metadata": {},
     "output_type": "execute_result"
    }
   ],
   "source": [
    "from sklearn.naive_bayes import MultinomialNB\n",
    "nb_clf = MultinomialNB()\n",
    "nb_clf.fit(xtrain_vec,ytrain)"
   ]
  },
  {
   "cell_type": "code",
   "execution_count": 35,
   "metadata": {
    "collapsed": false
   },
   "outputs": [
    {
     "name": "stdout",
     "output_type": "stream",
     "text": [
      "0.730530339226\n"
     ]
    }
   ],
   "source": [
    "print(nb_clf.score(xtest_vec,ytest))"
   ]
  },
  {
   "cell_type": "code",
   "execution_count": 36,
   "metadata": {
    "collapsed": true
   },
   "outputs": [],
   "source": [
    "test_output = nb_clf.predict(xtest_vec)"
   ]
  },
  {
   "cell_type": "code",
   "execution_count": null,
   "metadata": {
    "collapsed": true
   },
   "outputs": [],
   "source": [
    "def find_wrong():\n",
    "    for i"
   ]
  }
 ],
 "metadata": {
  "kernelspec": {
   "display_name": "Python 3",
   "language": "python",
   "name": "python3"
  },
  "language_info": {
   "codemirror_mode": {
    "name": "ipython",
    "version": 3
   },
   "file_extension": ".py",
   "mimetype": "text/x-python",
   "name": "python",
   "nbconvert_exporter": "python",
   "pygments_lexer": "ipython3",
   "version": "3.5.2"
  }
 },
 "nbformat": 4,
 "nbformat_minor": 2
}
