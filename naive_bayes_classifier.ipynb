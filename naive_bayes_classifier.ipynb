{
 "cells": [
  {
   "cell_type": "markdown",
   "metadata": {
    "deletable": true,
    "editable": true
   },
   "source": [
    "## Naive Bayes Classifier For Inshorts News Data\n",
    "This is notebook in which we are going to use naive bayes classifier from scikit learn. There are many method for text classification like Naive Bayes, Svm, LDA and many more. This notebook will walk through simple implementation of Naive Bayes Classifier.\n",
    "\n",
    "### Text Classification -Feature Representation-\n",
    "Most of the Ml algorithms take numerical input. So in case of text classification we need a representation that map words to number and those number will be feeded to algorithm. Most popular representation is __BOW__(Bag of Words Model). In bag of word model columns represent feature(word) and each row represents a document.   \n",
    " __EX :__  \n",
    "   __Doc1__ = \"This line contains word1 and word2.\"  \n",
    "   __Doc1__ = \"This sentence contains word2 and word2.\"   \n",
    "   \n",
    "|      | this | line | contains | word1 | and | word2 | sentence |\n",
    "|------|------|------|----------|-------|-----|-------|----------|\n",
    "| Doc1 | 1    | 1    | 1        | 1     | 1   | 1     | 0        |\n",
    "| Doc2 | 1    | 0    | 1        | 0     | 1   | 2     | 1        |\n",
    "\n",
    "### Naive Bayes Model \n",
    "Naive Bayes model is fast and produce very good result for text classification task. There are 3 type of probability in Naive Bayes formula.  \n",
    ">1.Prior probability   (Its class probability how likly this class appear in data.)  \n",
    "2.likelihood   (This is what we calculate from training data.)  \n",
    "3.posterior probability.  (Using prior prob. and likelihood we calculate posterior.)  \n",
    "\n",
    "Note that here predictors prior probabilty is ignored because its constant for all classes so posterior is only depends on prior and likelihood.  \n",
    "![alt text](Bayes_rule.png \"Logo Title Text 1\")  \n",
    "We calculate posterior probabilty for all classes for some given document D.    \n",
    "#### argmax<sub>i</sub>( *P*( C<sub>i</sub> / D) )  \n",
    "For i range(1,m), where m = total number of classes"
   ]
  },
  {
   "cell_type": "code",
   "execution_count": 1,
   "metadata": {
    "collapsed": true,
    "deletable": true,
    "editable": true
   },
   "outputs": [],
   "source": [
    "import os\n",
    "import pandas as pd\n",
    "import numpy as np\n",
    "import re"
   ]
  },
  {
   "cell_type": "code",
   "execution_count": 4,
   "metadata": {
    "collapsed": false,
    "deletable": true,
    "editable": true
   },
   "outputs": [
    {
     "data": {
      "text/html": [
       "<div>\n",
       "<style>\n",
       "    .dataframe thead tr:only-child th {\n",
       "        text-align: right;\n",
       "    }\n",
       "\n",
       "    .dataframe thead th {\n",
       "        text-align: left;\n",
       "    }\n",
       "\n",
       "    .dataframe tbody tr th {\n",
       "        vertical-align: top;\n",
       "    }\n",
       "</style>\n",
       "<table border=\"1\" class=\"dataframe\">\n",
       "  <thead>\n",
       "    <tr style=\"text-align: right;\">\n",
       "      <th></th>\n",
       "      <th>ind</th>\n",
       "      <th>catg</th>\n",
       "      <th>headline</th>\n",
       "      <th>body</th>\n",
       "      <th>imageurl</th>\n",
       "      <th>readmoreurl</th>\n",
       "      <th>inblockId</th>\n",
       "    </tr>\n",
       "  </thead>\n",
       "  <tbody>\n",
       "    <tr>\n",
       "      <th>0</th>\n",
       "      <td>1</td>\n",
       "      <td>automobile</td>\n",
       "      <td>Toyota gives increased comfort &amp; safety featur...</td>\n",
       "      <td>Toyota's Etios and Liva have 14 Standard Safet...</td>\n",
       "      <td>http://images.newsinshorts.com.edgesuite.net/a...</td>\n",
       "      <td>https://youtu.be/-_PqPwvecyE</td>\n",
       "      <td>dysqqgqf-1</td>\n",
       "    </tr>\n",
       "    <tr>\n",
       "      <th>1</th>\n",
       "      <td>2</td>\n",
       "      <td>automobile</td>\n",
       "      <td>Vodafone uses AR in PBL to promote new campaig...</td>\n",
       "      <td>Several pugs gatecrashed the finals of Vodafon...</td>\n",
       "      <td>http://images.newsinshorts.com.edgesuite.net/a...</td>\n",
       "      <td>https://youtu.be/yY_MRk3KEhw</td>\n",
       "      <td>dysqqgqf-1</td>\n",
       "    </tr>\n",
       "    <tr>\n",
       "      <th>2</th>\n",
       "      <td>3</td>\n",
       "      <td>automobile</td>\n",
       "      <td>Second-Gen Audi Q5 launched at ₹53.25 Lakh</td>\n",
       "      <td>Audi has launched the all-new Q5 with a price ...</td>\n",
       "      <td>http://images.newsinshorts.com.edgesuite.net/a...</td>\n",
       "      <td>https://youtu.be/EiJPF_aVbyo</td>\n",
       "      <td>dysqqgqf-1</td>\n",
       "    </tr>\n",
       "    <tr>\n",
       "      <th>3</th>\n",
       "      <td>4</td>\n",
       "      <td>automobile</td>\n",
       "      <td>World's fastest SUV Lamborghini Urus launched ...</td>\n",
       "      <td>Italian supercar maker Lamborghini on Thursday...</td>\n",
       "      <td>http://images.newsinshorts.com.edgesuite.net/a...</td>\n",
       "      <td>http://www.india.com/auto/car-news/lamborghini...</td>\n",
       "      <td>dysqqgqf-1</td>\n",
       "    </tr>\n",
       "    <tr>\n",
       "      <th>4</th>\n",
       "      <td>5</td>\n",
       "      <td>automobile</td>\n",
       "      <td>22000 Honda City units recalled in India over ...</td>\n",
       "      <td>Japanese automaker Honda is recalling 22,084 u...</td>\n",
       "      <td>http://images.newsinshorts.com.edgesuite.net/a...</td>\n",
       "      <td>http://www.livemint.com/Companies/gR3h813hD6ex...</td>\n",
       "      <td>dysqqgqf-1</td>\n",
       "    </tr>\n",
       "  </tbody>\n",
       "</table>\n",
       "</div>"
      ],
      "text/plain": [
       "   ind        catg                                           headline  \\\n",
       "0    1  automobile  Toyota gives increased comfort & safety featur...   \n",
       "1    2  automobile  Vodafone uses AR in PBL to promote new campaig...   \n",
       "2    3  automobile         Second-Gen Audi Q5 launched at ₹53.25 Lakh   \n",
       "3    4  automobile  World's fastest SUV Lamborghini Urus launched ...   \n",
       "4    5  automobile  22000 Honda City units recalled in India over ...   \n",
       "\n",
       "                                                body  \\\n",
       "0  Toyota's Etios and Liva have 14 Standard Safet...   \n",
       "1  Several pugs gatecrashed the finals of Vodafon...   \n",
       "2  Audi has launched the all-new Q5 with a price ...   \n",
       "3  Italian supercar maker Lamborghini on Thursday...   \n",
       "4  Japanese automaker Honda is recalling 22,084 u...   \n",
       "\n",
       "                                            imageurl  \\\n",
       "0  http://images.newsinshorts.com.edgesuite.net/a...   \n",
       "1  http://images.newsinshorts.com.edgesuite.net/a...   \n",
       "2  http://images.newsinshorts.com.edgesuite.net/a...   \n",
       "3  http://images.newsinshorts.com.edgesuite.net/a...   \n",
       "4  http://images.newsinshorts.com.edgesuite.net/a...   \n",
       "\n",
       "                                         readmoreurl   inblockId  \n",
       "0                      https://youtu.be/-_PqPwvecyE   dysqqgqf-1  \n",
       "1                      https://youtu.be/yY_MRk3KEhw   dysqqgqf-1  \n",
       "2                      https://youtu.be/EiJPF_aVbyo   dysqqgqf-1  \n",
       "3  http://www.india.com/auto/car-news/lamborghini...  dysqqgqf-1  \n",
       "4  http://www.livemint.com/Companies/gR3h813hD6ex...  dysqqgqf-1  "
      ]
     },
     "execution_count": 4,
     "metadata": {},
     "output_type": "execute_result"
    }
   ],
   "source": [
    "# in this section we read data \n",
    "fnames = os.listdir('Data')\n",
    "frames = [pd.read_csv('Data/'+name_) for name_ in fnames]\n",
    "data = pd.concat(frames,axis=0,ignore_index=True)\n",
    "data.head()"
   ]
  },
  {
   "cell_type": "code",
   "execution_count": 7,
   "metadata": {
    "collapsed": false
   },
   "outputs": [],
   "source": [
    "#dropping unnecessary columns from dataframe\n",
    "data = data.drop(['imageurl','headline','ind','readmoreurl','inblockId'],axis=1)"
   ]
  },
  {
   "cell_type": "code",
   "execution_count": 8,
   "metadata": {
    "collapsed": false
   },
   "outputs": [
    {
     "data": {
      "text/html": [
       "<div>\n",
       "<style>\n",
       "    .dataframe thead tr:only-child th {\n",
       "        text-align: right;\n",
       "    }\n",
       "\n",
       "    .dataframe thead th {\n",
       "        text-align: left;\n",
       "    }\n",
       "\n",
       "    .dataframe tbody tr th {\n",
       "        vertical-align: top;\n",
       "    }\n",
       "</style>\n",
       "<table border=\"1\" class=\"dataframe\">\n",
       "  <thead>\n",
       "    <tr style=\"text-align: right;\">\n",
       "      <th></th>\n",
       "      <th>catg</th>\n",
       "      <th>body</th>\n",
       "    </tr>\n",
       "  </thead>\n",
       "  <tbody>\n",
       "    <tr>\n",
       "      <th>0</th>\n",
       "      <td>automobile</td>\n",
       "      <td>Toyota's Etios and Liva have 14 Standard Safet...</td>\n",
       "    </tr>\n",
       "    <tr>\n",
       "      <th>1</th>\n",
       "      <td>automobile</td>\n",
       "      <td>Several pugs gatecrashed the finals of Vodafon...</td>\n",
       "    </tr>\n",
       "    <tr>\n",
       "      <th>2</th>\n",
       "      <td>automobile</td>\n",
       "      <td>Audi has launched the all-new Q5 with a price ...</td>\n",
       "    </tr>\n",
       "    <tr>\n",
       "      <th>3</th>\n",
       "      <td>automobile</td>\n",
       "      <td>Italian supercar maker Lamborghini on Thursday...</td>\n",
       "    </tr>\n",
       "    <tr>\n",
       "      <th>4</th>\n",
       "      <td>automobile</td>\n",
       "      <td>Japanese automaker Honda is recalling 22,084 u...</td>\n",
       "    </tr>\n",
       "  </tbody>\n",
       "</table>\n",
       "</div>"
      ],
      "text/plain": [
       "         catg                                               body\n",
       "0  automobile  Toyota's Etios and Liva have 14 Standard Safet...\n",
       "1  automobile  Several pugs gatecrashed the finals of Vodafon...\n",
       "2  automobile  Audi has launched the all-new Q5 with a price ...\n",
       "3  automobile  Italian supercar maker Lamborghini on Thursday...\n",
       "4  automobile  Japanese automaker Honda is recalling 22,084 u..."
      ]
     },
     "execution_count": 8,
     "metadata": {},
     "output_type": "execute_result"
    }
   ],
   "source": [
    "data.head()"
   ]
  },
  {
   "cell_type": "code",
   "execution_count": 23,
   "metadata": {
    "collapsed": false
   },
   "outputs": [],
   "source": [
    "#remove Puncuation\n",
    "from nltk.corpus import stopwords\n",
    "sw = set(stopwords.words('english'))\n",
    "sw = [(re.sub('[^A-Za-z ]','',x)) for x in sw]\n",
    "data['body'] = data['body'].apply(lambda x:re.sub('[^A-Za-z ]','',x))"
   ]
  },
  {
   "cell_type": "code",
   "execution_count": 24,
   "metadata": {
    "collapsed": false
   },
   "outputs": [
    {
     "data": {
      "text/html": [
       "<div>\n",
       "<style>\n",
       "    .dataframe thead tr:only-child th {\n",
       "        text-align: right;\n",
       "    }\n",
       "\n",
       "    .dataframe thead th {\n",
       "        text-align: left;\n",
       "    }\n",
       "\n",
       "    .dataframe tbody tr th {\n",
       "        vertical-align: top;\n",
       "    }\n",
       "</style>\n",
       "<table border=\"1\" class=\"dataframe\">\n",
       "  <thead>\n",
       "    <tr style=\"text-align: right;\">\n",
       "      <th></th>\n",
       "      <th>catg</th>\n",
       "      <th>body</th>\n",
       "    </tr>\n",
       "  </thead>\n",
       "  <tbody>\n",
       "    <tr>\n",
       "      <th>0</th>\n",
       "      <td>automobile</td>\n",
       "      <td>Toyotas Etios and Liva have  Standard Safety f...</td>\n",
       "    </tr>\n",
       "    <tr>\n",
       "      <th>1</th>\n",
       "      <td>automobile</td>\n",
       "      <td>Several pugs gatecrashed the finals of Vodafon...</td>\n",
       "    </tr>\n",
       "    <tr>\n",
       "      <th>2</th>\n",
       "      <td>automobile</td>\n",
       "      <td>Audi has launched the allnew Q with a price ra...</td>\n",
       "    </tr>\n",
       "    <tr>\n",
       "      <th>3</th>\n",
       "      <td>automobile</td>\n",
       "      <td>Italian supercar maker Lamborghini on Thursday...</td>\n",
       "    </tr>\n",
       "    <tr>\n",
       "      <th>4</th>\n",
       "      <td>automobile</td>\n",
       "      <td>Japanese automaker Honda is recalling  units o...</td>\n",
       "    </tr>\n",
       "  </tbody>\n",
       "</table>\n",
       "</div>"
      ],
      "text/plain": [
       "         catg                                               body\n",
       "0  automobile  Toyotas Etios and Liva have  Standard Safety f...\n",
       "1  automobile  Several pugs gatecrashed the finals of Vodafon...\n",
       "2  automobile  Audi has launched the allnew Q with a price ra...\n",
       "3  automobile  Italian supercar maker Lamborghini on Thursday...\n",
       "4  automobile  Japanese automaker Honda is recalling  units o..."
      ]
     },
     "execution_count": 24,
     "metadata": {},
     "output_type": "execute_result"
    }
   ],
   "source": [
    "data.head()"
   ]
  },
  {
   "cell_type": "code",
   "execution_count": 25,
   "metadata": {
    "collapsed": true
   },
   "outputs": [],
   "source": [
    "# This will split data into 2 sets. One will used for training and one will be for testing.\n",
    "# sklearn train_test_split method will split data and also randomize data with random_state aregument. We can test different models by using same random_state split every time. \n",
    "\n",
    "from sklearn.model_selection import train_test_split\n",
    "xtrain,xtest,ytrain,ytest = train_test_split(data['body'],data['catg'],test_size=0.35,random_state=42)"
   ]
  },
  {
   "cell_type": "code",
   "execution_count": 29,
   "metadata": {
    "collapsed": false
   },
   "outputs": [],
   "source": [
    "# since we are going to use Naive Bayes Classifier we will use word count as feature and not any tf-idf.(bcs raw word count works better for naive bayes in comparison of tf-idf)\n",
    "# sklearn provied a very simple implementation of BOW model(CountVectorizer)\n",
    "\n",
    "from sklearn.feature_extraction.text import CountVectorizer\n",
    "cv = CountVectorizer(stop_words = sw,ngram_range = (1,3),max_features = 20000)\n",
    "xtrain_vec = cv.fit_transform(xtrain)"
   ]
  },
  {
   "cell_type": "code",
   "execution_count": 30,
   "metadata": {
    "collapsed": true
   },
   "outputs": [],
   "source": [
    "# transform our \n",
    "xtest_vec = cv.transform(xtest)"
   ]
  },
  {
   "cell_type": "code",
   "execution_count": 34,
   "metadata": {
    "collapsed": false
   },
   "outputs": [
    {
     "data": {
      "text/plain": [
       "MultinomialNB(alpha=1.0, class_prior=None, fit_prior=True)"
      ]
     },
     "execution_count": 34,
     "metadata": {},
     "output_type": "execute_result"
    }
   ],
   "source": [
    "# Creat a New naive bayes classifier names nb_clf and fit our training data through fit method to calculate probabilty.\n",
    "from sklearn.naive_bayes import MultinomialNB\n",
    "nb_clf = MultinomialNB()\n",
    "nb_clf.fit(xtrain_vec,ytrain)"
   ]
  },
  {
   "cell_type": "code",
   "execution_count": 35,
   "metadata": {
    "collapsed": false
   },
   "outputs": [
    {
     "name": "stdout",
     "output_type": "stream",
     "text": [
      "0.730530339226\n"
     ]
    }
   ],
   "source": [
    "print(nb_clf.score(xtest_vec,ytest))"
   ]
  },
  {
   "cell_type": "code",
   "execution_count": 36,
   "metadata": {
    "collapsed": true
   },
   "outputs": [],
   "source": [
    "test_output = nb_clf.predict(xtest_vec)"
   ]
  },
  {
   "cell_type": "code",
   "execution_count": 68,
   "metadata": {
    "collapsed": false
   },
   "outputs": [],
   "source": [
    "def find_wrong():\n",
    "    wrong_arr = []\n",
    "    i=0\n",
    "    for c in ytest.items():\n",
    "        if test_output[i]!=c[1]:\n",
    "            wrong_arr.append(i)\n",
    "        i+=1\n",
    "    return wrong_arr\n",
    "wrong_arr = find_wrong()"
   ]
  },
  {
   "cell_type": "code",
   "execution_count": 80,
   "metadata": {
    "collapsed": false
   },
   "outputs": [
    {
     "data": {
      "text/plain": [
       "1128"
      ]
     },
     "execution_count": 80,
     "metadata": {},
     "output_type": "execute_result"
    }
   ],
   "source": [
    "len(wrong_arr)"
   ]
  },
  {
   "cell_type": "code",
   "execution_count": 82,
   "metadata": {
    "collapsed": false
   },
   "outputs": [
    {
     "data": {
      "text/plain": [
       "4186"
      ]
     },
     "execution_count": 82,
     "metadata": {},
     "output_type": "execute_result"
    }
   ],
   "source": [
    "len(ytest)"
   ]
  },
  {
   "cell_type": "code",
   "execution_count": 59,
   "metadata": {
    "collapsed": false
   },
   "outputs": [
    {
     "name": "stdout",
     "output_type": "stream",
     "text": [
      "['automobile' 'business' 'entertainment' 'hatke' 'miscellaneous' 'national'\n",
      " 'politics' 'science' 'sports' 'startup' 'technology' 'world']\n"
     ]
    }
   ],
   "source": [
    "print(nb_clf.classes_)"
   ]
  },
  {
   "cell_type": "code",
   "execution_count": 89,
   "metadata": {
    "collapsed": false,
    "scrolled": true
   },
   "outputs": [
    {
     "name": "stdout",
     "output_type": "stream",
     "text": [
      "32\n",
      "My output : startup Actual output : automobile\n",
      "Online automobile classifieds portal CarTrade on Wednesday announced that it has raised about  crore  million in a funding round led by Temasek Holdings and a USbased family office Temasek which is a governmentowned investment firm from Singapore had led a  crore funding round in CarTrade in January  CarTrade also provides automobile reviews onroad prices and comparisons\n",
      "[[  3.91049692e-23   2.50074669e-28   1.85836050e-36   4.29028609e-37\n",
      "    9.58721828e-35   4.20270658e-38   1.21649822e-39   8.09756242e-39\n",
      "    1.09065133e-39   1.00000000e+00   7.31365410e-22   1.68756182e-37]]\n",
      "[[-51.59579268 -63.55579324 -82.2733687  -83.73929502 -78.33004747\n",
      "  -86.06250479 -89.60484221 -87.70925555 -89.71404356   0.         -48.66712902\n",
      "  -84.67236366]]\n"
     ]
    }
   ],
   "source": [
    "i=4\n",
    "print(wrong_arr[i])\n",
    "print(\"My output :\",test_output[wrong_arr[i]],\"Actual output :\",ytest.iloc[wrong_arr[i]])\n",
    "print(xtest.iloc[wrong_arr[i]])\n",
    "print(nb_clf.predict_proba(xtest_vec[wrong_arr[i]]))\n",
    "print(nb_clf.predict_log_proba(xtest_vec[wrong_arr[i]]))"
   ]
  },
  {
   "cell_type": "code",
   "execution_count": 90,
   "metadata": {
    "collapsed": false
   },
   "outputs": [
    {
     "name": "stdout",
     "output_type": "stream",
     "text": [
      "['startup']\n",
      "[[  3.91049692e-23   2.50074669e-28   1.85836050e-36   4.29028609e-37\n",
      "    9.58721828e-35   4.20270658e-38   1.21649822e-39   8.09756242e-39\n",
      "    1.09065133e-39   1.00000000e+00   7.31365410e-22   1.68756182e-37]]\n",
      "[[-51.59579268 -63.55579324 -82.2733687  -83.73929502 -78.33004747\n",
      "  -86.06250479 -89.60484221 -87.70925555 -89.71404356   0.         -48.66712902\n",
      "  -84.67236366]]\n"
     ]
    }
   ],
   "source": [
    "print(nb_clf.predict(cv.transform([xtest.iloc[wrong_arr[i]]])))\n",
    "print(nb_clf.predict_proba(cv.transform([xtest.iloc[wrong_arr[i]]])))\n",
    "print(nb_clf.predict_log_proba(cv.transform([xtest.iloc[wrong_arr[i]]])))"
   ]
  },
  {
   "cell_type": "code",
   "execution_count": 44,
   "metadata": {
    "collapsed": false
   },
   "outputs": [
    {
     "data": {
      "text/plain": [
       "9269     USbased startup Roman has launched a cloud pha...\n",
       "10633    Photosharing app Snapchat went down for at lea...\n",
       "1142     Diesel price touched a record high of  per lit...\n",
       "9562     nChinabased ecommerce giant Alibabas Founder J...\n",
       "7559     UKbased scientists have discovered trace fossi...\n",
       "Name: body, dtype: object"
      ]
     },
     "execution_count": 44,
     "metadata": {},
     "output_type": "execute_result"
    }
   ],
   "source": [
    "xtest.head()"
   ]
  },
  {
   "cell_type": "code",
   "execution_count": 99,
   "metadata": {
    "collapsed": false
   },
   "outputs": [],
   "source": [
    "conf = pd.crosstab(ytest,test_output)"
   ]
  },
  {
   "cell_type": "code",
   "execution_count": 100,
   "metadata": {
    "collapsed": false
   },
   "outputs": [
    {
     "data": {
      "text/html": [
       "<div>\n",
       "<style>\n",
       "    .dataframe thead tr:only-child th {\n",
       "        text-align: right;\n",
       "    }\n",
       "\n",
       "    .dataframe thead th {\n",
       "        text-align: left;\n",
       "    }\n",
       "\n",
       "    .dataframe tbody tr th {\n",
       "        vertical-align: top;\n",
       "    }\n",
       "</style>\n",
       "<table border=\"1\" class=\"dataframe\">\n",
       "  <thead>\n",
       "    <tr style=\"text-align: right;\">\n",
       "      <th>col_0</th>\n",
       "      <th>automobile</th>\n",
       "      <th>business</th>\n",
       "      <th>entertainment</th>\n",
       "      <th>hatke</th>\n",
       "      <th>miscellaneous</th>\n",
       "      <th>national</th>\n",
       "      <th>politics</th>\n",
       "      <th>science</th>\n",
       "      <th>sports</th>\n",
       "      <th>startup</th>\n",
       "      <th>technology</th>\n",
       "      <th>world</th>\n",
       "    </tr>\n",
       "    <tr>\n",
       "      <th>catg</th>\n",
       "      <th></th>\n",
       "      <th></th>\n",
       "      <th></th>\n",
       "      <th></th>\n",
       "      <th></th>\n",
       "      <th></th>\n",
       "      <th></th>\n",
       "      <th></th>\n",
       "      <th></th>\n",
       "      <th></th>\n",
       "      <th></th>\n",
       "      <th></th>\n",
       "    </tr>\n",
       "  </thead>\n",
       "  <tbody>\n",
       "    <tr>\n",
       "      <th>automobile</th>\n",
       "      <td>274</td>\n",
       "      <td>13</td>\n",
       "      <td>2</td>\n",
       "      <td>8</td>\n",
       "      <td>0</td>\n",
       "      <td>1</td>\n",
       "      <td>1</td>\n",
       "      <td>0</td>\n",
       "      <td>1</td>\n",
       "      <td>17</td>\n",
       "      <td>12</td>\n",
       "      <td>2</td>\n",
       "    </tr>\n",
       "    <tr>\n",
       "      <th>business</th>\n",
       "      <td>11</td>\n",
       "      <td>288</td>\n",
       "      <td>3</td>\n",
       "      <td>11</td>\n",
       "      <td>1</td>\n",
       "      <td>12</td>\n",
       "      <td>4</td>\n",
       "      <td>1</td>\n",
       "      <td>0</td>\n",
       "      <td>15</td>\n",
       "      <td>27</td>\n",
       "      <td>11</td>\n",
       "    </tr>\n",
       "    <tr>\n",
       "      <th>entertainment</th>\n",
       "      <td>0</td>\n",
       "      <td>2</td>\n",
       "      <td>302</td>\n",
       "      <td>14</td>\n",
       "      <td>4</td>\n",
       "      <td>27</td>\n",
       "      <td>3</td>\n",
       "      <td>0</td>\n",
       "      <td>15</td>\n",
       "      <td>0</td>\n",
       "      <td>1</td>\n",
       "      <td>15</td>\n",
       "    </tr>\n",
       "    <tr>\n",
       "      <th>hatke</th>\n",
       "      <td>2</td>\n",
       "      <td>7</td>\n",
       "      <td>4</td>\n",
       "      <td>249</td>\n",
       "      <td>17</td>\n",
       "      <td>19</td>\n",
       "      <td>3</td>\n",
       "      <td>12</td>\n",
       "      <td>6</td>\n",
       "      <td>3</td>\n",
       "      <td>14</td>\n",
       "      <td>37</td>\n",
       "    </tr>\n",
       "    <tr>\n",
       "      <th>miscellaneous</th>\n",
       "      <td>2</td>\n",
       "      <td>3</td>\n",
       "      <td>6</td>\n",
       "      <td>82</td>\n",
       "      <td>61</td>\n",
       "      <td>3</td>\n",
       "      <td>1</td>\n",
       "      <td>32</td>\n",
       "      <td>2</td>\n",
       "      <td>2</td>\n",
       "      <td>4</td>\n",
       "      <td>6</td>\n",
       "    </tr>\n",
       "    <tr>\n",
       "      <th>national</th>\n",
       "      <td>2</td>\n",
       "      <td>31</td>\n",
       "      <td>18</td>\n",
       "      <td>24</td>\n",
       "      <td>1</td>\n",
       "      <td>211</td>\n",
       "      <td>61</td>\n",
       "      <td>3</td>\n",
       "      <td>3</td>\n",
       "      <td>2</td>\n",
       "      <td>2</td>\n",
       "      <td>28</td>\n",
       "    </tr>\n",
       "    <tr>\n",
       "      <th>politics</th>\n",
       "      <td>0</td>\n",
       "      <td>2</td>\n",
       "      <td>5</td>\n",
       "      <td>1</td>\n",
       "      <td>0</td>\n",
       "      <td>37</td>\n",
       "      <td>228</td>\n",
       "      <td>0</td>\n",
       "      <td>0</td>\n",
       "      <td>0</td>\n",
       "      <td>0</td>\n",
       "      <td>2</td>\n",
       "    </tr>\n",
       "    <tr>\n",
       "      <th>science</th>\n",
       "      <td>0</td>\n",
       "      <td>2</td>\n",
       "      <td>1</td>\n",
       "      <td>5</td>\n",
       "      <td>0</td>\n",
       "      <td>4</td>\n",
       "      <td>1</td>\n",
       "      <td>343</td>\n",
       "      <td>1</td>\n",
       "      <td>3</td>\n",
       "      <td>3</td>\n",
       "      <td>4</td>\n",
       "    </tr>\n",
       "    <tr>\n",
       "      <th>sports</th>\n",
       "      <td>0</td>\n",
       "      <td>3</td>\n",
       "      <td>17</td>\n",
       "      <td>9</td>\n",
       "      <td>2</td>\n",
       "      <td>10</td>\n",
       "      <td>1</td>\n",
       "      <td>0</td>\n",
       "      <td>335</td>\n",
       "      <td>0</td>\n",
       "      <td>1</td>\n",
       "      <td>7</td>\n",
       "    </tr>\n",
       "    <tr>\n",
       "      <th>startup</th>\n",
       "      <td>30</td>\n",
       "      <td>21</td>\n",
       "      <td>2</td>\n",
       "      <td>4</td>\n",
       "      <td>1</td>\n",
       "      <td>3</td>\n",
       "      <td>0</td>\n",
       "      <td>7</td>\n",
       "      <td>0</td>\n",
       "      <td>272</td>\n",
       "      <td>44</td>\n",
       "      <td>1</td>\n",
       "    </tr>\n",
       "    <tr>\n",
       "      <th>technology</th>\n",
       "      <td>22</td>\n",
       "      <td>27</td>\n",
       "      <td>1</td>\n",
       "      <td>10</td>\n",
       "      <td>1</td>\n",
       "      <td>1</td>\n",
       "      <td>1</td>\n",
       "      <td>19</td>\n",
       "      <td>1</td>\n",
       "      <td>28</td>\n",
       "      <td>246</td>\n",
       "      <td>8</td>\n",
       "    </tr>\n",
       "    <tr>\n",
       "      <th>world</th>\n",
       "      <td>2</td>\n",
       "      <td>10</td>\n",
       "      <td>2</td>\n",
       "      <td>28</td>\n",
       "      <td>6</td>\n",
       "      <td>17</td>\n",
       "      <td>2</td>\n",
       "      <td>16</td>\n",
       "      <td>2</td>\n",
       "      <td>1</td>\n",
       "      <td>13</td>\n",
       "      <td>249</td>\n",
       "    </tr>\n",
       "  </tbody>\n",
       "</table>\n",
       "</div>"
      ],
      "text/plain": [
       "col_0          automobile  business  entertainment  hatke  miscellaneous  \\\n",
       "catg                                                                       \n",
       "automobile            274        13              2      8              0   \n",
       "business               11       288              3     11              1   \n",
       "entertainment           0         2            302     14              4   \n",
       "hatke                   2         7              4    249             17   \n",
       "miscellaneous           2         3              6     82             61   \n",
       "national                2        31             18     24              1   \n",
       "politics                0         2              5      1              0   \n",
       "science                 0         2              1      5              0   \n",
       "sports                  0         3             17      9              2   \n",
       "startup                30        21              2      4              1   \n",
       "technology             22        27              1     10              1   \n",
       "world                   2        10              2     28              6   \n",
       "\n",
       "col_0          national  politics  science  sports  startup  technology  world  \n",
       "catg                                                                            \n",
       "automobile            1         1        0       1       17          12      2  \n",
       "business             12         4        1       0       15          27     11  \n",
       "entertainment        27         3        0      15        0           1     15  \n",
       "hatke                19         3       12       6        3          14     37  \n",
       "miscellaneous         3         1       32       2        2           4      6  \n",
       "national            211        61        3       3        2           2     28  \n",
       "politics             37       228        0       0        0           0      2  \n",
       "science               4         1      343       1        3           3      4  \n",
       "sports               10         1        0     335        0           1      7  \n",
       "startup               3         0        7       0      272          44      1  \n",
       "technology            1         1       19       1       28         246      8  \n",
       "world                17         2       16       2        1          13    249  "
      ]
     },
     "execution_count": 100,
     "metadata": {},
     "output_type": "execute_result"
    }
   ],
   "source": [
    "conf.head(n=12)"
   ]
  },
  {
   "cell_type": "code",
   "execution_count": 95,
   "metadata": {
    "collapsed": false
   },
   "outputs": [
    {
     "data": {
      "text/plain": [
       "hatke            445\n",
       "science          433\n",
       "business         409\n",
       "world            370\n",
       "technology       367\n",
       "sports           366\n",
       "entertainment    363\n",
       "automobile       345\n",
       "national         345\n",
       "startup          343\n",
       "politics         306\n",
       "miscellaneous     94\n",
       "dtype: int64"
      ]
     },
     "execution_count": 95,
     "metadata": {},
     "output_type": "execute_result"
    }
   ],
   "source": [
    "pd.Series(test_output).value_counts()"
   ]
  },
  {
   "cell_type": "code",
   "execution_count": 102,
   "metadata": {
    "collapsed": false
   },
   "outputs": [
    {
     "data": {
      "text/plain": [
       "national         386\n",
       "startup          385\n",
       "sports           385\n",
       "business         384\n",
       "entertainment    383\n",
       "hatke            373\n",
       "science          367\n",
       "technology       365\n",
       "world            348\n",
       "automobile       331\n",
       "politics         275\n",
       "miscellaneous    204\n",
       "Name: catg, dtype: int64"
      ]
     },
     "execution_count": 102,
     "metadata": {},
     "output_type": "execute_result"
    }
   ],
   "source": [
    "pd.Series(ytest).value_counts()"
   ]
  }
 ],
 "metadata": {
  "kernelspec": {
   "display_name": "Python 3",
   "language": "python",
   "name": "python3"
  },
  "language_info": {
   "codemirror_mode": {
    "name": "ipython",
    "version": 3
   },
   "file_extension": ".py",
   "mimetype": "text/x-python",
   "name": "python",
   "nbconvert_exporter": "python",
   "pygments_lexer": "ipython3",
   "version": "3.5.2"
  }
 },
 "nbformat": 4,
 "nbformat_minor": 2
}
