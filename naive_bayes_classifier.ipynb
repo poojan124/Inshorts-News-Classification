{
 "cells": [
  {
   "cell_type": "markdown",
   "metadata": {
    "deletable": true,
    "editable": true
   },
   "source": [
    "## Naive Bayes Classifier For Inshorts News Data\n",
    "This is notebook in which we are going to use naive bayes classifier from scikit learn. There are many method for text classification like Naive Bayes, Svm, LDA and many more. This notebook will walk through simple implementation of Naive Bayes Classifier.\n",
    "\n",
    "### Text Classification -Feature Representation-\n",
    "Most of the Ml algorithms take numerical input. So in case of text classification we need a representation that map words to number and those number will be feeded to algorithm. Most popular representation is __BOW__(Bag of Words Model). In bag of word model columns represent feature(word) and each row represents a document.   \n",
    " __EX :__  \n",
    "   __Doc1__ = \"This line contains word1 and word2.\"  \n",
    "   __Doc1__ = \"This sentence contains word2 and word2.\"   \n",
    "   \n",
    "|      | this | line | contains | word1 | and | word2 | sentence |\n",
    "|------|------|------|----------|-------|-----|-------|----------|\n",
    "| Doc1 | 1    | 1    | 1        | 1     | 1   | 1     | 0        |\n",
    "| Doc2 | 1    | 0    | 1        | 0     | 1   | 2     | 1        |\n",
    "\n",
    "### Naive Bayes Model \n",
    "Naive Bayes model is fast and produce very good result for text classification task. There are 3 type of probability in Naive Bayes formula.  \n",
    ">1.Prior probability   (Its class probability how likly this class appear in data.)  \n",
    "2.likelihood   (This is what we calculate from training data.)  \n",
    "3.posterior probability.  (Using prior prob. and likelihood we calculate posterior.)  \n",
    "\n",
    "Note that here predictors prior probabilty is ignored because its constant for all classes so posterior is only depends on prior and likelihood.  \n",
    "![alt text](Bayes_rule.png \"Logo Title Text 1\")  \n",
    "We calculate posterior probabilty for all classes for some given document D.    \n",
    "#### argmax<sub>i</sub>( *P*( C<sub>i</sub> / D) )  \n",
    "For i range(1,m), where m = total number of classes"
   ]
  },
  {
   "cell_type": "markdown",
   "metadata": {},
   "source": [
    "### Reading And Cleaning Data"
   ]
  },
  {
   "cell_type": "code",
   "execution_count": 284,
   "metadata": {
    "collapsed": true,
    "deletable": true,
    "editable": true
   },
   "outputs": [],
   "source": [
    "import os\n",
    "import pandas as pd\n",
    "import numpy as np\n",
    "import re"
   ]
  },
  {
   "cell_type": "code",
   "execution_count": 285,
   "metadata": {
    "collapsed": false,
    "deletable": true,
    "editable": true
   },
   "outputs": [
    {
     "data": {
      "text/html": [
       "<div>\n",
       "<style>\n",
       "    .dataframe thead tr:only-child th {\n",
       "        text-align: right;\n",
       "    }\n",
       "\n",
       "    .dataframe thead th {\n",
       "        text-align: left;\n",
       "    }\n",
       "\n",
       "    .dataframe tbody tr th {\n",
       "        vertical-align: top;\n",
       "    }\n",
       "</style>\n",
       "<table border=\"1\" class=\"dataframe\">\n",
       "  <thead>\n",
       "    <tr style=\"text-align: right;\">\n",
       "      <th></th>\n",
       "      <th>ind</th>\n",
       "      <th>catg</th>\n",
       "      <th>headline</th>\n",
       "      <th>body</th>\n",
       "      <th>imageurl</th>\n",
       "      <th>readmoreurl</th>\n",
       "      <th>inblockId</th>\n",
       "    </tr>\n",
       "  </thead>\n",
       "  <tbody>\n",
       "    <tr>\n",
       "      <th>0</th>\n",
       "      <td>1</td>\n",
       "      <td>automobile</td>\n",
       "      <td>Toyota gives increased comfort &amp; safety featur...</td>\n",
       "      <td>Toyota's Etios and Liva have 14 Standard Safet...</td>\n",
       "      <td>http://images.newsinshorts.com.edgesuite.net/a...</td>\n",
       "      <td>https://youtu.be/-_PqPwvecyE</td>\n",
       "      <td>dysqqgqf-1</td>\n",
       "    </tr>\n",
       "    <tr>\n",
       "      <th>1</th>\n",
       "      <td>2</td>\n",
       "      <td>automobile</td>\n",
       "      <td>Vodafone uses AR in PBL to promote new campaig...</td>\n",
       "      <td>Several pugs gatecrashed the finals of Vodafon...</td>\n",
       "      <td>http://images.newsinshorts.com.edgesuite.net/a...</td>\n",
       "      <td>https://youtu.be/yY_MRk3KEhw</td>\n",
       "      <td>dysqqgqf-1</td>\n",
       "    </tr>\n",
       "    <tr>\n",
       "      <th>2</th>\n",
       "      <td>3</td>\n",
       "      <td>automobile</td>\n",
       "      <td>Second-Gen Audi Q5 launched at ₹53.25 Lakh</td>\n",
       "      <td>Audi has launched the all-new Q5 with a price ...</td>\n",
       "      <td>http://images.newsinshorts.com.edgesuite.net/a...</td>\n",
       "      <td>https://youtu.be/EiJPF_aVbyo</td>\n",
       "      <td>dysqqgqf-1</td>\n",
       "    </tr>\n",
       "  </tbody>\n",
       "</table>\n",
       "</div>"
      ],
      "text/plain": [
       "   ind        catg                                           headline  \\\n",
       "0    1  automobile  Toyota gives increased comfort & safety featur...   \n",
       "1    2  automobile  Vodafone uses AR in PBL to promote new campaig...   \n",
       "2    3  automobile         Second-Gen Audi Q5 launched at ₹53.25 Lakh   \n",
       "\n",
       "                                                body  \\\n",
       "0  Toyota's Etios and Liva have 14 Standard Safet...   \n",
       "1  Several pugs gatecrashed the finals of Vodafon...   \n",
       "2  Audi has launched the all-new Q5 with a price ...   \n",
       "\n",
       "                                            imageurl  \\\n",
       "0  http://images.newsinshorts.com.edgesuite.net/a...   \n",
       "1  http://images.newsinshorts.com.edgesuite.net/a...   \n",
       "2  http://images.newsinshorts.com.edgesuite.net/a...   \n",
       "\n",
       "                     readmoreurl   inblockId  \n",
       "0  https://youtu.be/-_PqPwvecyE   dysqqgqf-1  \n",
       "1  https://youtu.be/yY_MRk3KEhw   dysqqgqf-1  \n",
       "2  https://youtu.be/EiJPF_aVbyo   dysqqgqf-1  "
      ]
     },
     "execution_count": 285,
     "metadata": {},
     "output_type": "execute_result"
    }
   ],
   "source": [
    "# in this section we read data into a pandas DataFrame\n",
    "fnames = os.listdir('Data')\n",
    "frames = [pd.read_csv('Data/'+name_) for name_ in fnames]\n",
    "data = pd.concat(frames,axis=0,ignore_index=True)\n",
    "data.head(n=3)"
   ]
  },
  {
   "cell_type": "code",
   "execution_count": 286,
   "metadata": {
    "collapsed": false
   },
   "outputs": [
    {
     "name": "stdout",
     "output_type": "stream",
     "text": [
      "Data size :  (9219, 7)\n"
     ]
    },
    {
     "data": {
      "text/plain": [
       "business         1076\n",
       "world            1075\n",
       "science          1075\n",
       "national         1074\n",
       "entertainment    1066\n",
       "sports           1065\n",
       "technology       1063\n",
       "automobile        949\n",
       "politics          776\n",
       "Name: catg, dtype: int64"
      ]
     },
     "execution_count": 286,
     "metadata": {},
     "output_type": "execute_result"
    }
   ],
   "source": [
    "#Data Shape and total numbers of category\n",
    "print(\"Data size : \",data.shape)\n",
    "data['catg'].value_counts()"
   ]
  },
  {
   "cell_type": "code",
   "execution_count": 287,
   "metadata": {
    "collapsed": false,
    "deletable": true,
    "editable": true
   },
   "outputs": [
    {
     "data": {
      "text/html": [
       "<div>\n",
       "<style>\n",
       "    .dataframe thead tr:only-child th {\n",
       "        text-align: right;\n",
       "    }\n",
       "\n",
       "    .dataframe thead th {\n",
       "        text-align: left;\n",
       "    }\n",
       "\n",
       "    .dataframe tbody tr th {\n",
       "        vertical-align: top;\n",
       "    }\n",
       "</style>\n",
       "<table border=\"1\" class=\"dataframe\">\n",
       "  <thead>\n",
       "    <tr style=\"text-align: right;\">\n",
       "      <th></th>\n",
       "      <th>catg</th>\n",
       "      <th>body</th>\n",
       "    </tr>\n",
       "  </thead>\n",
       "  <tbody>\n",
       "    <tr>\n",
       "      <th>0</th>\n",
       "      <td>automobile</td>\n",
       "      <td>Toyota's Etios and Liva have 14 Standard Safet...</td>\n",
       "    </tr>\n",
       "    <tr>\n",
       "      <th>1</th>\n",
       "      <td>automobile</td>\n",
       "      <td>Several pugs gatecrashed the finals of Vodafon...</td>\n",
       "    </tr>\n",
       "    <tr>\n",
       "      <th>2</th>\n",
       "      <td>automobile</td>\n",
       "      <td>Audi has launched the all-new Q5 with a price ...</td>\n",
       "    </tr>\n",
       "    <tr>\n",
       "      <th>3</th>\n",
       "      <td>automobile</td>\n",
       "      <td>Italian supercar maker Lamborghini on Thursday...</td>\n",
       "    </tr>\n",
       "    <tr>\n",
       "      <th>4</th>\n",
       "      <td>automobile</td>\n",
       "      <td>Japanese automaker Honda is recalling 22,084 u...</td>\n",
       "    </tr>\n",
       "  </tbody>\n",
       "</table>\n",
       "</div>"
      ],
      "text/plain": [
       "         catg                                               body\n",
       "0  automobile  Toyota's Etios and Liva have 14 Standard Safet...\n",
       "1  automobile  Several pugs gatecrashed the finals of Vodafon...\n",
       "2  automobile  Audi has launched the all-new Q5 with a price ...\n",
       "3  automobile  Italian supercar maker Lamborghini on Thursday...\n",
       "4  automobile  Japanese automaker Honda is recalling 22,084 u..."
      ]
     },
     "execution_count": 287,
     "metadata": {},
     "output_type": "execute_result"
    }
   ],
   "source": [
    "#dropping unnecessary columns from dataframe\n",
    "data = data.drop(['imageurl','headline','ind','readmoreurl','inblockId'],axis=1)\n",
    "data.head()"
   ]
  },
  {
   "cell_type": "code",
   "execution_count": 288,
   "metadata": {
    "collapsed": false,
    "deletable": true,
    "editable": true
   },
   "outputs": [],
   "source": [
    "#remove Puncuation and numbers from our data.\n",
    "def remove_punctuation(s):\n",
    "    return re.sub('[^A-Za-z ]','',s)\n",
    "data['body'] = data['body'].apply(lambda x:remove_punctuation(x))"
   ]
  },
  {
   "cell_type": "markdown",
   "metadata": {},
   "source": [
    "### Splitting data into 2 part Train,Test"
   ]
  },
  {
   "cell_type": "code",
   "execution_count": 289,
   "metadata": {
    "collapsed": true,
    "deletable": true,
    "editable": true
   },
   "outputs": [],
   "source": [
    "# This will split data into 2 sets. One will used for training and one will be for testing.\n",
    "# sklearn train_test_split method will split data and also randomize data with random_state aregument. We can test different models by using same random_state split every time. \n",
    "\n",
    "from sklearn.model_selection import train_test_split\n",
    "splitter = 0.35\n",
    "train,test = train_test_split(data,test_size=splitter,random_state=42)"
   ]
  },
  {
   "cell_type": "code",
   "execution_count": 290,
   "metadata": {
    "collapsed": false
   },
   "outputs": [],
   "source": [
    "# resetting index of pandas data_frame to 0 based index\n",
    "\n",
    "train = train.reset_index(drop=True)\n",
    "test = test.reset_index(drop=True)"
   ]
  },
  {
   "cell_type": "code",
   "execution_count": 291,
   "metadata": {
    "collapsed": false
   },
   "outputs": [
    {
     "data": {
      "text/html": [
       "<div>\n",
       "<style>\n",
       "    .dataframe thead tr:only-child th {\n",
       "        text-align: right;\n",
       "    }\n",
       "\n",
       "    .dataframe thead th {\n",
       "        text-align: left;\n",
       "    }\n",
       "\n",
       "    .dataframe tbody tr th {\n",
       "        vertical-align: top;\n",
       "    }\n",
       "</style>\n",
       "<table border=\"1\" class=\"dataframe\">\n",
       "  <thead>\n",
       "    <tr style=\"text-align: right;\">\n",
       "      <th></th>\n",
       "      <th>catg</th>\n",
       "      <th>body</th>\n",
       "    </tr>\n",
       "  </thead>\n",
       "  <tbody>\n",
       "    <tr>\n",
       "      <th>0</th>\n",
       "      <td>automobile</td>\n",
       "      <td>Technology giant Apple is using the same model...</td>\n",
       "    </tr>\n",
       "    <tr>\n",
       "      <th>1</th>\n",
       "      <td>science</td>\n",
       "      <td>A new image from NASAs Chandra Xray Observator...</td>\n",
       "    </tr>\n",
       "    <tr>\n",
       "      <th>2</th>\n",
       "      <td>entertainment</td>\n",
       "      <td>The Mark Hamill late actress Carrie Fisher and...</td>\n",
       "    </tr>\n",
       "    <tr>\n",
       "      <th>3</th>\n",
       "      <td>automobile</td>\n",
       "      <td>Israeli startup StoreDot has created a battery...</td>\n",
       "    </tr>\n",
       "    <tr>\n",
       "      <th>4</th>\n",
       "      <td>world</td>\n",
       "      <td>Facebook has agreed to investigate the spread ...</td>\n",
       "    </tr>\n",
       "  </tbody>\n",
       "</table>\n",
       "</div>"
      ],
      "text/plain": [
       "            catg                                               body\n",
       "0     automobile  Technology giant Apple is using the same model...\n",
       "1        science  A new image from NASAs Chandra Xray Observator...\n",
       "2  entertainment  The Mark Hamill late actress Carrie Fisher and...\n",
       "3     automobile  Israeli startup StoreDot has created a battery...\n",
       "4          world  Facebook has agreed to investigate the spread ..."
      ]
     },
     "execution_count": 291,
     "metadata": {},
     "output_type": "execute_result"
    }
   ],
   "source": [
    "train.head()"
   ]
  },
  {
   "cell_type": "markdown",
   "metadata": {},
   "source": [
    "### Implementing CountVectorizer model from sklearn."
   ]
  },
  {
   "cell_type": "code",
   "execution_count": 292,
   "metadata": {
    "collapsed": false,
    "deletable": true,
    "editable": true
   },
   "outputs": [],
   "source": [
    "from sklearn.feature_extraction.text import CountVectorizer\n",
    "cv = CountVectorizer(stop_words = 'english',ngram_range = (1,4),max_features=20000)\n",
    "train_cv = cv.fit_transform(train['body'])"
   ]
  },
  {
   "cell_type": "code",
   "execution_count": 293,
   "metadata": {
    "collapsed": true,
    "deletable": true,
    "editable": true
   },
   "outputs": [],
   "source": [
    "# transform our test data into countvectorizer matrix.\n",
    "test_cv = cv.transform(test['body'])"
   ]
  },
  {
   "cell_type": "markdown",
   "metadata": {},
   "source": [
    "### Implementing MultinomialNB using sklearn."
   ]
  },
  {
   "cell_type": "code",
   "execution_count": 294,
   "metadata": {
    "collapsed": false,
    "deletable": true,
    "editable": true
   },
   "outputs": [
    {
     "data": {
      "text/plain": [
       "MultinomialNB(alpha=0.01, class_prior=None, fit_prior=True)"
      ]
     },
     "execution_count": 294,
     "metadata": {},
     "output_type": "execute_result"
    }
   ],
   "source": [
    "# Creat a New naive bayes classifier names nb_clf and fit our training data through fit method to calculate probabilty.\n",
    "from sklearn.naive_bayes import MultinomialNB\n",
    "nb_cv_clf = MultinomialNB(alpha=0.01)\n",
    "nb_cv_clf.fit(train_cv,train['catg'])"
   ]
  },
  {
   "cell_type": "markdown",
   "metadata": {},
   "source": [
    "### Testing model on test dataset and analysing missclassified examples"
   ]
  },
  {
   "cell_type": "code",
   "execution_count": 295,
   "metadata": {
    "collapsed": false,
    "deletable": true,
    "editable": true
   },
   "outputs": [
    {
     "name": "stdout",
     "output_type": "stream",
     "text": [
      "Test Accuracy :  78.3700030989 %\n",
      "Train Accuracy :  93.7082777036 %\n"
     ]
    }
   ],
   "source": [
    "print(\"Test Accuracy : \",nb_cv_clf.score(test_cv,test['catg'])*100,\"%\")\n",
    "print(\"Train Accuracy : \",nb_cv_clf.score(train_cv,train['catg'])*100,\"%\")"
   ]
  },
  {
   "cell_type": "code",
   "execution_count": 296,
   "metadata": {
    "collapsed": true,
    "deletable": true,
    "editable": true
   },
   "outputs": [],
   "source": [
    "test_cv_output = nb_cv_clf.predict(test_cv)\n",
    "train_cv_output = nb_cv_clf.predict(train_cv)"
   ]
  },
  {
   "cell_type": "code",
   "execution_count": 297,
   "metadata": {
    "collapsed": false,
    "deletable": true,
    "editable": true
   },
   "outputs": [
    {
     "name": "stdout",
     "output_type": "stream",
     "text": [
      "Confusion Matrix for test data.\n"
     ]
    },
    {
     "data": {
      "text/html": [
       "<div>\n",
       "<style>\n",
       "    .dataframe thead tr:only-child th {\n",
       "        text-align: right;\n",
       "    }\n",
       "\n",
       "    .dataframe thead th {\n",
       "        text-align: left;\n",
       "    }\n",
       "\n",
       "    .dataframe tbody tr th {\n",
       "        vertical-align: top;\n",
       "    }\n",
       "</style>\n",
       "<table border=\"1\" class=\"dataframe\">\n",
       "  <thead>\n",
       "    <tr style=\"text-align: right;\">\n",
       "      <th>predicted</th>\n",
       "      <th>automobile</th>\n",
       "      <th>business</th>\n",
       "      <th>entertainment</th>\n",
       "      <th>national</th>\n",
       "      <th>politics</th>\n",
       "      <th>science</th>\n",
       "      <th>sports</th>\n",
       "      <th>technology</th>\n",
       "      <th>world</th>\n",
       "      <th>All</th>\n",
       "    </tr>\n",
       "    <tr>\n",
       "      <th>true</th>\n",
       "      <th></th>\n",
       "      <th></th>\n",
       "      <th></th>\n",
       "      <th></th>\n",
       "      <th></th>\n",
       "      <th></th>\n",
       "      <th></th>\n",
       "      <th></th>\n",
       "      <th></th>\n",
       "      <th></th>\n",
       "    </tr>\n",
       "  </thead>\n",
       "  <tbody>\n",
       "    <tr>\n",
       "      <th>automobile</th>\n",
       "      <td>292</td>\n",
       "      <td>14</td>\n",
       "      <td>3</td>\n",
       "      <td>6</td>\n",
       "      <td>0</td>\n",
       "      <td>4</td>\n",
       "      <td>1</td>\n",
       "      <td>24</td>\n",
       "      <td>1</td>\n",
       "      <td>345</td>\n",
       "    </tr>\n",
       "    <tr>\n",
       "      <th>business</th>\n",
       "      <td>16</td>\n",
       "      <td>296</td>\n",
       "      <td>4</td>\n",
       "      <td>19</td>\n",
       "      <td>8</td>\n",
       "      <td>3</td>\n",
       "      <td>0</td>\n",
       "      <td>37</td>\n",
       "      <td>14</td>\n",
       "      <td>397</td>\n",
       "    </tr>\n",
       "    <tr>\n",
       "      <th>entertainment</th>\n",
       "      <td>0</td>\n",
       "      <td>1</td>\n",
       "      <td>303</td>\n",
       "      <td>39</td>\n",
       "      <td>5</td>\n",
       "      <td>0</td>\n",
       "      <td>17</td>\n",
       "      <td>3</td>\n",
       "      <td>14</td>\n",
       "      <td>382</td>\n",
       "    </tr>\n",
       "    <tr>\n",
       "      <th>national</th>\n",
       "      <td>3</td>\n",
       "      <td>23</td>\n",
       "      <td>17</td>\n",
       "      <td>227</td>\n",
       "      <td>49</td>\n",
       "      <td>6</td>\n",
       "      <td>2</td>\n",
       "      <td>4</td>\n",
       "      <td>32</td>\n",
       "      <td>363</td>\n",
       "    </tr>\n",
       "    <tr>\n",
       "      <th>politics</th>\n",
       "      <td>0</td>\n",
       "      <td>3</td>\n",
       "      <td>4</td>\n",
       "      <td>40</td>\n",
       "      <td>218</td>\n",
       "      <td>0</td>\n",
       "      <td>0</td>\n",
       "      <td>1</td>\n",
       "      <td>0</td>\n",
       "      <td>266</td>\n",
       "    </tr>\n",
       "    <tr>\n",
       "      <th>science</th>\n",
       "      <td>4</td>\n",
       "      <td>3</td>\n",
       "      <td>1</td>\n",
       "      <td>4</td>\n",
       "      <td>0</td>\n",
       "      <td>338</td>\n",
       "      <td>1</td>\n",
       "      <td>9</td>\n",
       "      <td>6</td>\n",
       "      <td>366</td>\n",
       "    </tr>\n",
       "    <tr>\n",
       "      <th>sports</th>\n",
       "      <td>3</td>\n",
       "      <td>1</td>\n",
       "      <td>24</td>\n",
       "      <td>10</td>\n",
       "      <td>3</td>\n",
       "      <td>1</td>\n",
       "      <td>303</td>\n",
       "      <td>2</td>\n",
       "      <td>13</td>\n",
       "      <td>360</td>\n",
       "    </tr>\n",
       "    <tr>\n",
       "      <th>technology</th>\n",
       "      <td>25</td>\n",
       "      <td>39</td>\n",
       "      <td>3</td>\n",
       "      <td>4</td>\n",
       "      <td>1</td>\n",
       "      <td>21</td>\n",
       "      <td>0</td>\n",
       "      <td>263</td>\n",
       "      <td>13</td>\n",
       "      <td>369</td>\n",
       "    </tr>\n",
       "    <tr>\n",
       "      <th>world</th>\n",
       "      <td>4</td>\n",
       "      <td>15</td>\n",
       "      <td>4</td>\n",
       "      <td>37</td>\n",
       "      <td>0</td>\n",
       "      <td>11</td>\n",
       "      <td>1</td>\n",
       "      <td>18</td>\n",
       "      <td>289</td>\n",
       "      <td>379</td>\n",
       "    </tr>\n",
       "    <tr>\n",
       "      <th>All</th>\n",
       "      <td>347</td>\n",
       "      <td>395</td>\n",
       "      <td>363</td>\n",
       "      <td>386</td>\n",
       "      <td>284</td>\n",
       "      <td>384</td>\n",
       "      <td>325</td>\n",
       "      <td>361</td>\n",
       "      <td>382</td>\n",
       "      <td>3227</td>\n",
       "    </tr>\n",
       "  </tbody>\n",
       "</table>\n",
       "</div>"
      ],
      "text/plain": [
       "predicted      automobile  business  entertainment  national  politics  \\\n",
       "true                                                                     \n",
       "automobile            292        14              3         6         0   \n",
       "business               16       296              4        19         8   \n",
       "entertainment           0         1            303        39         5   \n",
       "national                3        23             17       227        49   \n",
       "politics                0         3              4        40       218   \n",
       "science                 4         3              1         4         0   \n",
       "sports                  3         1             24        10         3   \n",
       "technology             25        39              3         4         1   \n",
       "world                   4        15              4        37         0   \n",
       "All                   347       395            363       386       284   \n",
       "\n",
       "predicted      science  sports  technology  world   All  \n",
       "true                                                     \n",
       "automobile           4       1          24      1   345  \n",
       "business             3       0          37     14   397  \n",
       "entertainment        0      17           3     14   382  \n",
       "national             6       2           4     32   363  \n",
       "politics             0       0           1      0   266  \n",
       "science            338       1           9      6   366  \n",
       "sports               1     303           2     13   360  \n",
       "technology          21       0         263     13   369  \n",
       "world               11       1          18    289   379  \n",
       "All                384     325         361    382  3227  "
      ]
     },
     "execution_count": 297,
     "metadata": {},
     "output_type": "execute_result"
    }
   ],
   "source": [
    "print(\"Confusion Matrix for test data.\")\n",
    "pd.crosstab(test['catg'],test_cv_output,rownames=['true'],colnames=['predicted'],margins=True)"
   ]
  },
  {
   "cell_type": "code",
   "execution_count": 298,
   "metadata": {
    "collapsed": false
   },
   "outputs": [
    {
     "name": "stdout",
     "output_type": "stream",
     "text": [
      "Number of misscalssified Examples :  698\n"
     ]
    }
   ],
   "source": [
    "missclassified_id_cv = []\n",
    "for i in range(len(test_cv_output)):\n",
    "    if test_cv_output[i]!=test['catg'].loc[i]:\n",
    "        missclassified_id_cv.append((i,test_cv_output[i],test['catg'].loc[i]))\n",
    "print(\"Number of misscalssified Examples : \",len(missclassified_id_cv))"
   ]
  },
  {
   "cell_type": "markdown",
   "metadata": {},
   "source": [
    "### Use TF-IDF feature for naive bayes. Using TfIdfTransformer From sklearn."
   ]
  },
  {
   "cell_type": "code",
   "execution_count": 299,
   "metadata": {
    "collapsed": false
   },
   "outputs": [
    {
     "data": {
      "text/plain": [
       "TfidfTransformer(norm='l2', smooth_idf=True, sublinear_tf=False, use_idf=True)"
      ]
     },
     "execution_count": 299,
     "metadata": {},
     "output_type": "execute_result"
    }
   ],
   "source": [
    "from sklearn.feature_extraction.text import TfidfTransformer\n",
    "tf_transformer = TfidfTransformer()\n",
    "tf_transformer.fit(train_cv)"
   ]
  },
  {
   "cell_type": "code",
   "execution_count": 300,
   "metadata": {
    "collapsed": true
   },
   "outputs": [],
   "source": [
    "train_tfidf = tf_transformer.transform(train_cv)\n",
    "test_tfidf = tf_transformer.transform(test_cv)"
   ]
  },
  {
   "cell_type": "markdown",
   "metadata": {},
   "source": [
    "### Naive bayes with TF-IDF feature Vector"
   ]
  },
  {
   "cell_type": "code",
   "execution_count": 301,
   "metadata": {
    "collapsed": false
   },
   "outputs": [
    {
     "data": {
      "text/plain": [
       "MultinomialNB(alpha=0.01, class_prior=None, fit_prior=True)"
      ]
     },
     "execution_count": 301,
     "metadata": {},
     "output_type": "execute_result"
    }
   ],
   "source": [
    "nb_tfidf_clf = MultinomialNB(alpha = 0.01)\n",
    "nb_tfidf_clf.fit(train_tfidf,train['catg'])"
   ]
  },
  {
   "cell_type": "markdown",
   "metadata": {},
   "source": [
    "### Testing tf-ifd naive bayes model and analysing miss-classified examples."
   ]
  },
  {
   "cell_type": "code",
   "execution_count": 302,
   "metadata": {
    "collapsed": false
   },
   "outputs": [
    {
     "name": "stdout",
     "output_type": "stream",
     "text": [
      "Test Accuracy :  78.4939572358 %\n",
      "Train Accuracy :  93.5747663551 %\n"
     ]
    }
   ],
   "source": [
    "print(\"Test Accuracy : \",nb_tfidf_clf.score(test_tfidf,test['catg'])*100,\"%\")\n",
    "print(\"Train Accuracy : \",nb_tfidf_clf.score(train_tfidf,train['catg'])*100,\"%\")"
   ]
  },
  {
   "cell_type": "code",
   "execution_count": 303,
   "metadata": {
    "collapsed": true
   },
   "outputs": [],
   "source": [
    "test_tfidf_output = nb_tfidf_clf.predict(test_tfidf)\n",
    "train_tfidf_output = nb_tfidf_clf.predict(train_tfidf)"
   ]
  },
  {
   "cell_type": "code",
   "execution_count": 304,
   "metadata": {
    "collapsed": false
   },
   "outputs": [
    {
     "name": "stdout",
     "output_type": "stream",
     "text": [
      "Confusion Matrix for test data.\n"
     ]
    },
    {
     "data": {
      "text/html": [
       "<div>\n",
       "<style>\n",
       "    .dataframe thead tr:only-child th {\n",
       "        text-align: right;\n",
       "    }\n",
       "\n",
       "    .dataframe thead th {\n",
       "        text-align: left;\n",
       "    }\n",
       "\n",
       "    .dataframe tbody tr th {\n",
       "        vertical-align: top;\n",
       "    }\n",
       "</style>\n",
       "<table border=\"1\" class=\"dataframe\">\n",
       "  <thead>\n",
       "    <tr style=\"text-align: right;\">\n",
       "      <th>predicted</th>\n",
       "      <th>automobile</th>\n",
       "      <th>business</th>\n",
       "      <th>entertainment</th>\n",
       "      <th>national</th>\n",
       "      <th>politics</th>\n",
       "      <th>science</th>\n",
       "      <th>sports</th>\n",
       "      <th>technology</th>\n",
       "      <th>world</th>\n",
       "      <th>All</th>\n",
       "    </tr>\n",
       "    <tr>\n",
       "      <th>true</th>\n",
       "      <th></th>\n",
       "      <th></th>\n",
       "      <th></th>\n",
       "      <th></th>\n",
       "      <th></th>\n",
       "      <th></th>\n",
       "      <th></th>\n",
       "      <th></th>\n",
       "      <th></th>\n",
       "      <th></th>\n",
       "    </tr>\n",
       "  </thead>\n",
       "  <tbody>\n",
       "    <tr>\n",
       "      <th>automobile</th>\n",
       "      <td>296</td>\n",
       "      <td>12</td>\n",
       "      <td>3</td>\n",
       "      <td>6</td>\n",
       "      <td>0</td>\n",
       "      <td>3</td>\n",
       "      <td>1</td>\n",
       "      <td>23</td>\n",
       "      <td>1</td>\n",
       "      <td>345</td>\n",
       "    </tr>\n",
       "    <tr>\n",
       "      <th>business</th>\n",
       "      <td>16</td>\n",
       "      <td>296</td>\n",
       "      <td>4</td>\n",
       "      <td>17</td>\n",
       "      <td>8</td>\n",
       "      <td>3</td>\n",
       "      <td>0</td>\n",
       "      <td>39</td>\n",
       "      <td>14</td>\n",
       "      <td>397</td>\n",
       "    </tr>\n",
       "    <tr>\n",
       "      <th>entertainment</th>\n",
       "      <td>1</td>\n",
       "      <td>1</td>\n",
       "      <td>301</td>\n",
       "      <td>38</td>\n",
       "      <td>6</td>\n",
       "      <td>0</td>\n",
       "      <td>17</td>\n",
       "      <td>2</td>\n",
       "      <td>16</td>\n",
       "      <td>382</td>\n",
       "    </tr>\n",
       "    <tr>\n",
       "      <th>national</th>\n",
       "      <td>4</td>\n",
       "      <td>25</td>\n",
       "      <td>17</td>\n",
       "      <td>221</td>\n",
       "      <td>52</td>\n",
       "      <td>6</td>\n",
       "      <td>2</td>\n",
       "      <td>4</td>\n",
       "      <td>32</td>\n",
       "      <td>363</td>\n",
       "    </tr>\n",
       "    <tr>\n",
       "      <th>politics</th>\n",
       "      <td>1</td>\n",
       "      <td>3</td>\n",
       "      <td>4</td>\n",
       "      <td>40</td>\n",
       "      <td>218</td>\n",
       "      <td>0</td>\n",
       "      <td>0</td>\n",
       "      <td>0</td>\n",
       "      <td>0</td>\n",
       "      <td>266</td>\n",
       "    </tr>\n",
       "    <tr>\n",
       "      <th>science</th>\n",
       "      <td>4</td>\n",
       "      <td>3</td>\n",
       "      <td>0</td>\n",
       "      <td>3</td>\n",
       "      <td>0</td>\n",
       "      <td>341</td>\n",
       "      <td>2</td>\n",
       "      <td>7</td>\n",
       "      <td>6</td>\n",
       "      <td>366</td>\n",
       "    </tr>\n",
       "    <tr>\n",
       "      <th>sports</th>\n",
       "      <td>1</td>\n",
       "      <td>1</td>\n",
       "      <td>24</td>\n",
       "      <td>8</td>\n",
       "      <td>3</td>\n",
       "      <td>1</td>\n",
       "      <td>309</td>\n",
       "      <td>1</td>\n",
       "      <td>12</td>\n",
       "      <td>360</td>\n",
       "    </tr>\n",
       "    <tr>\n",
       "      <th>technology</th>\n",
       "      <td>24</td>\n",
       "      <td>39</td>\n",
       "      <td>4</td>\n",
       "      <td>3</td>\n",
       "      <td>1</td>\n",
       "      <td>23</td>\n",
       "      <td>0</td>\n",
       "      <td>264</td>\n",
       "      <td>11</td>\n",
       "      <td>369</td>\n",
       "    </tr>\n",
       "    <tr>\n",
       "      <th>world</th>\n",
       "      <td>3</td>\n",
       "      <td>16</td>\n",
       "      <td>4</td>\n",
       "      <td>38</td>\n",
       "      <td>0</td>\n",
       "      <td>12</td>\n",
       "      <td>1</td>\n",
       "      <td>18</td>\n",
       "      <td>287</td>\n",
       "      <td>379</td>\n",
       "    </tr>\n",
       "    <tr>\n",
       "      <th>All</th>\n",
       "      <td>350</td>\n",
       "      <td>396</td>\n",
       "      <td>361</td>\n",
       "      <td>374</td>\n",
       "      <td>288</td>\n",
       "      <td>389</td>\n",
       "      <td>332</td>\n",
       "      <td>358</td>\n",
       "      <td>379</td>\n",
       "      <td>3227</td>\n",
       "    </tr>\n",
       "  </tbody>\n",
       "</table>\n",
       "</div>"
      ],
      "text/plain": [
       "predicted      automobile  business  entertainment  national  politics  \\\n",
       "true                                                                     \n",
       "automobile            296        12              3         6         0   \n",
       "business               16       296              4        17         8   \n",
       "entertainment           1         1            301        38         6   \n",
       "national                4        25             17       221        52   \n",
       "politics                1         3              4        40       218   \n",
       "science                 4         3              0         3         0   \n",
       "sports                  1         1             24         8         3   \n",
       "technology             24        39              4         3         1   \n",
       "world                   3        16              4        38         0   \n",
       "All                   350       396            361       374       288   \n",
       "\n",
       "predicted      science  sports  technology  world   All  \n",
       "true                                                     \n",
       "automobile           3       1          23      1   345  \n",
       "business             3       0          39     14   397  \n",
       "entertainment        0      17           2     16   382  \n",
       "national             6       2           4     32   363  \n",
       "politics             0       0           0      0   266  \n",
       "science            341       2           7      6   366  \n",
       "sports               1     309           1     12   360  \n",
       "technology          23       0         264     11   369  \n",
       "world               12       1          18    287   379  \n",
       "All                389     332         358    379  3227  "
      ]
     },
     "execution_count": 304,
     "metadata": {},
     "output_type": "execute_result"
    }
   ],
   "source": [
    "print(\"Confusion Matrix for test data.\")\n",
    "pd.crosstab(test['catg'],test_tfidf_output,rownames=['true'],colnames=['predicted'],margins=True)"
   ]
  }
 ],
 "metadata": {
  "kernelspec": {
   "display_name": "Python 3",
   "language": "python",
   "name": "python3"
  },
  "language_info": {
   "codemirror_mode": {
    "name": "ipython",
    "version": 3
   },
   "file_extension": ".py",
   "mimetype": "text/x-python",
   "name": "python",
   "nbconvert_exporter": "python",
   "pygments_lexer": "ipython3",
   "version": "3.5.4"
  }
 },
 "nbformat": 4,
 "nbformat_minor": 2
}
